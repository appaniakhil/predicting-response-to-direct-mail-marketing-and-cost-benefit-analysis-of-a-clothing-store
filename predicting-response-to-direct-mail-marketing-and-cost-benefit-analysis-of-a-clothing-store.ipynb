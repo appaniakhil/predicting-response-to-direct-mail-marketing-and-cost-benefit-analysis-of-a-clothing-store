{
  "nbformat": 4,
  "nbformat_minor": 0,
  "metadata": {
    "kernelspec": {
      "display_name": "Python 3",
      "language": "python",
      "name": "python3"
    },
    "language_info": {
      "codemirror_mode": {
        "name": "ipython",
        "version": 3
      },
      "file_extension": ".py",
      "mimetype": "text/x-python",
      "name": "python",
      "nbconvert_exporter": "python",
      "pygments_lexer": "ipython3",
      "version": "3.7.6"
    },
    "colab": {
      "name": "final_exam.ipynb",
      "provenance": []
    },
    "accelerator": "TPU"
  },
  "cells": [
    {
      "cell_type": "markdown",
      "metadata": {
        "id": "AH9pgWu3wlK2"
      },
      "source": [
        "# Importing Libraries"
      ]
    },
    {
      "cell_type": "code",
      "metadata": {
        "id": "dU6UZyhvwlK4"
      },
      "source": [
        "import pandas as pd\n",
        "import gc\n",
        "import os\n",
        "import warnings\n",
        "import numpy as np\n",
        "import pandas as pd\n",
        "import seaborn as sns\n",
        "import matplotlib.pyplot as plt\n",
        "from sklearn.model_selection import KFold,train_test_split\n",
        "import lightgbm as lgb\n",
        "from sklearn import preprocessing\n",
        "from sklearn.metrics import mean_absolute_error, mean_squared_error, classification_report\n",
        "\n",
        "from sklearn.model_selection import StratifiedShuffleSplit\n",
        "\n",
        "from sklearn.tree import DecisionTreeRegressor\n",
        "from sklearn import preprocessing\n",
        "from sklearn.impute import SimpleImputer\n",
        "from pandas.plotting import scatter_matrix\n",
        "from sklearn.preprocessing import RobustScaler, StandardScaler, LabelEncoder, MinMaxScaler, OneHotEncoder, LabelBinarizer\n",
        "from sklearn.metrics import mean_squared_error, accuracy_score, mean_absolute_error\n",
        "from sklearn.model_selection import KFold, cross_val_score\n",
        "from sklearn.model_selection import cross_val_score, GridSearchCV, RandomizedSearchCV, KFold, cross_val_predict, StratifiedKFold, train_test_split, learning_curve, ShuffleSplit\n",
        "from sklearn.model_selection import train_test_split\n",
        "from sklearn import model_selection, preprocessing\n",
        "from sklearn.metrics import classification_report, confusion_matrix, accuracy_score\n",
        "from sklearn.model_selection import cross_val_score, GridSearchCV, RandomizedSearchCV,KFold, cross_val_predict, StratifiedKFold, train_test_split, learning_curve, ShuffleSplit\n",
        "from sklearn.linear_model import LogisticRegression\n",
        "from sklearn.tree import DecisionTreeClassifier\n",
        "from sklearn.neighbors import KNeighborsClassifier\n",
        "from sklearn.discriminant_analysis import LinearDiscriminantAnalysis\n",
        "from sklearn.naive_bayes import GaussianNB\n",
        "from sklearn.svm import SVC \n",
        "from sklearn.linear_model import SGDClassifier\n",
        "from sklearn.ensemble import RandomForestClassifier\n",
        "from sklearn.model_selection import GridSearchCV, ShuffleSplit\n",
        "from sklearn.metrics import confusion_matrix, precision_score, recall_score, accuracy_score, f1_score\n",
        "from sklearn.model_selection import cross_val_predict\n",
        "from sklearn.metrics import confusion_matrix\n",
        "from sklearn.metrics import precision_recall_curve, average_precision_score, auc\n",
        "# from sklearn.utils.fixes import signature\n",
        "from inspect import signature\n",
        "from sklearn.metrics import roc_curve\n",
        "from sklearn.metrics import roc_auc_score"
      ],
      "execution_count": 1,
      "outputs": []
    },
    {
      "cell_type": "markdown",
      "metadata": {
        "id": "mOlb_VdVwlK6"
      },
      "source": [
        "# Importing the Data"
      ]
    },
    {
      "cell_type": "code",
      "metadata": {
        "id": "cWsLlg7PwlK7"
      },
      "source": [
        "data = pd.read_csv(r'/content/clothing store dataset.csv')"
      ],
      "execution_count": 3,
      "outputs": []
    },
    {
      "cell_type": "markdown",
      "metadata": {
        "id": "oHBKmenSwlK7"
      },
      "source": [
        "## Displaying contents in the Dataset"
      ]
    },
    {
      "cell_type": "code",
      "metadata": {
        "colab": {
          "base_uri": "https://localhost:8080/",
          "height": 319
        },
        "id": "NY_eTHjMwlK8",
        "outputId": "46c812b4-52d7-4e4d-8158-2024dbc9d4f5"
      },
      "source": [
        "data.head()"
      ],
      "execution_count": 4,
      "outputs": [
        {
          "output_type": "execute_result",
          "data": {
            "text/html": [
              "<div>\n",
              "<style scoped>\n",
              "    .dataframe tbody tr th:only-of-type {\n",
              "        vertical-align: middle;\n",
              "    }\n",
              "\n",
              "    .dataframe tbody tr th {\n",
              "        vertical-align: top;\n",
              "    }\n",
              "\n",
              "    .dataframe thead th {\n",
              "        text-align: right;\n",
              "    }\n",
              "</style>\n",
              "<table border=\"1\" class=\"dataframe\">\n",
              "  <thead>\n",
              "    <tr style=\"text-align: right;\">\n",
              "      <th></th>\n",
              "      <th>HHKEY</th>\n",
              "      <th>ZIP_CODE</th>\n",
              "      <th>REC</th>\n",
              "      <th>FRE</th>\n",
              "      <th>MON</th>\n",
              "      <th>CC_CARD</th>\n",
              "      <th>AVRG</th>\n",
              "      <th>PC_CALC20</th>\n",
              "      <th>PSWEATERS</th>\n",
              "      <th>PKNIT_TOPS</th>\n",
              "      <th>PKNIT_DRES</th>\n",
              "      <th>PBLOUSES</th>\n",
              "      <th>PJACKETS</th>\n",
              "      <th>PCAR_PNTS</th>\n",
              "      <th>PCAS_PNTS</th>\n",
              "      <th>PSHIRTS</th>\n",
              "      <th>PDRESSES</th>\n",
              "      <th>PSUITS</th>\n",
              "      <th>POUTERWEAR</th>\n",
              "      <th>PJEWELRY</th>\n",
              "      <th>PFASHION</th>\n",
              "      <th>PLEGWEAR</th>\n",
              "      <th>PCOLLSPND</th>\n",
              "      <th>AMSPEND</th>\n",
              "      <th>PSSPEND</th>\n",
              "      <th>CCSPEND</th>\n",
              "      <th>AXSPEND</th>\n",
              "      <th>TMONSPEND</th>\n",
              "      <th>OMONSPEND</th>\n",
              "      <th>SMONSPEND</th>\n",
              "      <th>PREVPD</th>\n",
              "      <th>GMP</th>\n",
              "      <th>PROMOS</th>\n",
              "      <th>DAYS</th>\n",
              "      <th>FREDAYS</th>\n",
              "      <th>MARKDOWN</th>\n",
              "      <th>CLASSES</th>\n",
              "      <th>COUPONS</th>\n",
              "      <th>STYLES</th>\n",
              "      <th>STORES</th>\n",
              "      <th>...</th>\n",
              "      <th>flag casual pants</th>\n",
              "      <th>flag shirts</th>\n",
              "      <th>flag dresses</th>\n",
              "      <th>flag suits</th>\n",
              "      <th>flag outerwear</th>\n",
              "      <th>flag jewelry</th>\n",
              "      <th>flag fashion</th>\n",
              "      <th>flag legwear</th>\n",
              "      <th>flag collectibles</th>\n",
              "      <th>sqrt spending AM</th>\n",
              "      <th>sqrt spending PS</th>\n",
              "      <th>sqrt spending CC</th>\n",
              "      <th>sqrt spending AX</th>\n",
              "      <th>sqrt spending last three months</th>\n",
              "      <th>sqrt spending last one month</th>\n",
              "      <th>sqrt spending last six months</th>\n",
              "      <th>sqrt spending SPLY</th>\n",
              "      <th>flag spending AM</th>\n",
              "      <th>flag spending PS</th>\n",
              "      <th>flag spending CC</th>\n",
              "      <th>flag spending AX</th>\n",
              "      <th>flag spending last three months</th>\n",
              "      <th>flag spending last one month</th>\n",
              "      <th>flag spending last six months</th>\n",
              "      <th>flag spending SPLY</th>\n",
              "      <th>ln days between purchases</th>\n",
              "      <th>ln # different product classes</th>\n",
              "      <th>sqrt # coupons used</th>\n",
              "      <th>ln # individual items purchased</th>\n",
              "      <th>ln stores</th>\n",
              "      <th>ln lifetime ave time betw visits</th>\n",
              "      <th>ln product uniformity</th>\n",
              "      <th>sqrt responded</th>\n",
              "      <th>flag returns</th>\n",
              "      <th>flag response rate</th>\n",
              "      <th>flag markdown</th>\n",
              "      <th>sqrt spending months 2 3</th>\n",
              "      <th>sqrt spending months 4 5 6</th>\n",
              "      <th>flag spending months 4 5 6</th>\n",
              "      <th>flag spending months 2 3</th>\n",
              "    </tr>\n",
              "  </thead>\n",
              "  <tbody>\n",
              "    <tr>\n",
              "      <th>0</th>\n",
              "      <td>9955600066402</td>\n",
              "      <td>1001</td>\n",
              "      <td>208</td>\n",
              "      <td>2</td>\n",
              "      <td>368.46</td>\n",
              "      <td>0</td>\n",
              "      <td>184.23</td>\n",
              "      <td>11</td>\n",
              "      <td>0.18</td>\n",
              "      <td>0.00</td>\n",
              "      <td>0.00</td>\n",
              "      <td>0.30</td>\n",
              "      <td>0.0</td>\n",
              "      <td>0.25</td>\n",
              "      <td>0.00</td>\n",
              "      <td>0.19</td>\n",
              "      <td>0.00</td>\n",
              "      <td>0.0</td>\n",
              "      <td>0.0</td>\n",
              "      <td>0.000000</td>\n",
              "      <td>0.02</td>\n",
              "      <td>0.03</td>\n",
              "      <td>0.29</td>\n",
              "      <td>0.0</td>\n",
              "      <td>0.0</td>\n",
              "      <td>368.46</td>\n",
              "      <td>0.0</td>\n",
              "      <td>0.00</td>\n",
              "      <td>0.00</td>\n",
              "      <td>0.00</td>\n",
              "      <td>0.00</td>\n",
              "      <td>0.60</td>\n",
              "      <td>17.0</td>\n",
              "      <td>666.0</td>\n",
              "      <td>333.00</td>\n",
              "      <td>0.08</td>\n",
              "      <td>9.0</td>\n",
              "      <td>1.0</td>\n",
              "      <td>11.0</td>\n",
              "      <td>1.0</td>\n",
              "      <td>...</td>\n",
              "      <td>F</td>\n",
              "      <td>T</td>\n",
              "      <td>F</td>\n",
              "      <td>F</td>\n",
              "      <td>F</td>\n",
              "      <td>F</td>\n",
              "      <td>T</td>\n",
              "      <td>T</td>\n",
              "      <td>T</td>\n",
              "      <td>0.0</td>\n",
              "      <td>0.0</td>\n",
              "      <td>19.195312</td>\n",
              "      <td>0.0</td>\n",
              "      <td>0.000000</td>\n",
              "      <td>0.000000</td>\n",
              "      <td>0.000000</td>\n",
              "      <td>0.000000</td>\n",
              "      <td>F</td>\n",
              "      <td>F</td>\n",
              "      <td>T</td>\n",
              "      <td>F</td>\n",
              "      <td>F</td>\n",
              "      <td>F</td>\n",
              "      <td>F</td>\n",
              "      <td>F</td>\n",
              "      <td>5.808142</td>\n",
              "      <td>2.197225</td>\n",
              "      <td>1.000000</td>\n",
              "      <td>2.397895</td>\n",
              "      <td>0.0</td>\n",
              "      <td>4.709530</td>\n",
              "      <td>3.459781</td>\n",
              "      <td>0.000000</td>\n",
              "      <td>F</td>\n",
              "      <td>F</td>\n",
              "      <td>T</td>\n",
              "      <td>0.000000</td>\n",
              "      <td>0.000000</td>\n",
              "      <td>F</td>\n",
              "      <td>F</td>\n",
              "    </tr>\n",
              "    <tr>\n",
              "      <th>1</th>\n",
              "      <td>9955600073501</td>\n",
              "      <td>1028</td>\n",
              "      <td>6</td>\n",
              "      <td>4</td>\n",
              "      <td>258.00</td>\n",
              "      <td>1</td>\n",
              "      <td>64.50</td>\n",
              "      <td>11</td>\n",
              "      <td>0.26</td>\n",
              "      <td>0.16</td>\n",
              "      <td>0.00</td>\n",
              "      <td>0.00</td>\n",
              "      <td>0.0</td>\n",
              "      <td>0.18</td>\n",
              "      <td>0.14</td>\n",
              "      <td>0.00</td>\n",
              "      <td>0.18</td>\n",
              "      <td>0.0</td>\n",
              "      <td>0.0</td>\n",
              "      <td>0.000000</td>\n",
              "      <td>0.00</td>\n",
              "      <td>0.02</td>\n",
              "      <td>0.37</td>\n",
              "      <td>0.0</td>\n",
              "      <td>0.0</td>\n",
              "      <td>258.00</td>\n",
              "      <td>0.0</td>\n",
              "      <td>138.00</td>\n",
              "      <td>55.99</td>\n",
              "      <td>258.00</td>\n",
              "      <td>0.00</td>\n",
              "      <td>0.54</td>\n",
              "      <td>14.0</td>\n",
              "      <td>696.0</td>\n",
              "      <td>174.00</td>\n",
              "      <td>0.33</td>\n",
              "      <td>6.0</td>\n",
              "      <td>0.0</td>\n",
              "      <td>14.0</td>\n",
              "      <td>1.0</td>\n",
              "      <td>...</td>\n",
              "      <td>T</td>\n",
              "      <td>F</td>\n",
              "      <td>T</td>\n",
              "      <td>F</td>\n",
              "      <td>F</td>\n",
              "      <td>F</td>\n",
              "      <td>F</td>\n",
              "      <td>T</td>\n",
              "      <td>T</td>\n",
              "      <td>0.0</td>\n",
              "      <td>0.0</td>\n",
              "      <td>16.062378</td>\n",
              "      <td>0.0</td>\n",
              "      <td>11.747340</td>\n",
              "      <td>7.482647</td>\n",
              "      <td>16.062378</td>\n",
              "      <td>0.000000</td>\n",
              "      <td>F</td>\n",
              "      <td>F</td>\n",
              "      <td>T</td>\n",
              "      <td>F</td>\n",
              "      <td>T</td>\n",
              "      <td>T</td>\n",
              "      <td>T</td>\n",
              "      <td>F</td>\n",
              "      <td>5.159055</td>\n",
              "      <td>1.791759</td>\n",
              "      <td>0.000000</td>\n",
              "      <td>2.639057</td>\n",
              "      <td>0.0</td>\n",
              "      <td>3.772761</td>\n",
              "      <td>3.487987</td>\n",
              "      <td>1.414214</td>\n",
              "      <td>T</td>\n",
              "      <td>T</td>\n",
              "      <td>T</td>\n",
              "      <td>9.055937</td>\n",
              "      <td>10.954451</td>\n",
              "      <td>T</td>\n",
              "      <td>T</td>\n",
              "    </tr>\n",
              "    <tr>\n",
              "      <th>2</th>\n",
              "      <td>9955600076313</td>\n",
              "      <td>1056</td>\n",
              "      <td>327</td>\n",
              "      <td>2</td>\n",
              "      <td>77.00</td>\n",
              "      <td>0</td>\n",
              "      <td>38.50</td>\n",
              "      <td>11</td>\n",
              "      <td>1.00</td>\n",
              "      <td>0.00</td>\n",
              "      <td>0.00</td>\n",
              "      <td>0.00</td>\n",
              "      <td>0.0</td>\n",
              "      <td>0.00</td>\n",
              "      <td>0.00</td>\n",
              "      <td>0.00</td>\n",
              "      <td>0.00</td>\n",
              "      <td>0.0</td>\n",
              "      <td>0.0</td>\n",
              "      <td>0.000000</td>\n",
              "      <td>0.00</td>\n",
              "      <td>0.00</td>\n",
              "      <td>0.00</td>\n",
              "      <td>0.0</td>\n",
              "      <td>0.0</td>\n",
              "      <td>77.00</td>\n",
              "      <td>0.0</td>\n",
              "      <td>0.00</td>\n",
              "      <td>0.00</td>\n",
              "      <td>0.00</td>\n",
              "      <td>39.00</td>\n",
              "      <td>0.62</td>\n",
              "      <td>10.0</td>\n",
              "      <td>343.0</td>\n",
              "      <td>171.50</td>\n",
              "      <td>0.11</td>\n",
              "      <td>1.0</td>\n",
              "      <td>0.0</td>\n",
              "      <td>2.0</td>\n",
              "      <td>1.0</td>\n",
              "      <td>...</td>\n",
              "      <td>F</td>\n",
              "      <td>F</td>\n",
              "      <td>F</td>\n",
              "      <td>F</td>\n",
              "      <td>F</td>\n",
              "      <td>F</td>\n",
              "      <td>F</td>\n",
              "      <td>F</td>\n",
              "      <td>F</td>\n",
              "      <td>0.0</td>\n",
              "      <td>0.0</td>\n",
              "      <td>8.774964</td>\n",
              "      <td>0.0</td>\n",
              "      <td>0.000000</td>\n",
              "      <td>0.000000</td>\n",
              "      <td>0.000000</td>\n",
              "      <td>6.244998</td>\n",
              "      <td>F</td>\n",
              "      <td>F</td>\n",
              "      <td>T</td>\n",
              "      <td>F</td>\n",
              "      <td>F</td>\n",
              "      <td>F</td>\n",
              "      <td>F</td>\n",
              "      <td>T</td>\n",
              "      <td>5.144583</td>\n",
              "      <td>0.000000</td>\n",
              "      <td>0.000000</td>\n",
              "      <td>0.693147</td>\n",
              "      <td>0.0</td>\n",
              "      <td>4.228293</td>\n",
              "      <td>4.605170</td>\n",
              "      <td>0.000000</td>\n",
              "      <td>F</td>\n",
              "      <td>F</td>\n",
              "      <td>T</td>\n",
              "      <td>0.000000</td>\n",
              "      <td>0.000000</td>\n",
              "      <td>F</td>\n",
              "      <td>F</td>\n",
              "    </tr>\n",
              "    <tr>\n",
              "      <th>3</th>\n",
              "      <td>9955600078045</td>\n",
              "      <td>1118</td>\n",
              "      <td>66</td>\n",
              "      <td>8</td>\n",
              "      <td>846.06</td>\n",
              "      <td>1</td>\n",
              "      <td>105.75</td>\n",
              "      <td>11</td>\n",
              "      <td>0.38</td>\n",
              "      <td>0.00</td>\n",
              "      <td>0.05</td>\n",
              "      <td>0.06</td>\n",
              "      <td>0.2</td>\n",
              "      <td>0.17</td>\n",
              "      <td>0.00</td>\n",
              "      <td>0.05</td>\n",
              "      <td>0.00</td>\n",
              "      <td>0.0</td>\n",
              "      <td>0.0</td>\n",
              "      <td>0.005307</td>\n",
              "      <td>0.03</td>\n",
              "      <td>0.01</td>\n",
              "      <td>0.00</td>\n",
              "      <td>0.0</td>\n",
              "      <td>0.0</td>\n",
              "      <td>846.06</td>\n",
              "      <td>0.0</td>\n",
              "      <td>104.94</td>\n",
              "      <td>0.00</td>\n",
              "      <td>373.87</td>\n",
              "      <td>166.25</td>\n",
              "      <td>0.43</td>\n",
              "      <td>24.0</td>\n",
              "      <td>701.0</td>\n",
              "      <td>87.62</td>\n",
              "      <td>0.29</td>\n",
              "      <td>15.0</td>\n",
              "      <td>3.0</td>\n",
              "      <td>35.0</td>\n",
              "      <td>1.0</td>\n",
              "      <td>...</td>\n",
              "      <td>F</td>\n",
              "      <td>T</td>\n",
              "      <td>F</td>\n",
              "      <td>F</td>\n",
              "      <td>F</td>\n",
              "      <td>T</td>\n",
              "      <td>T</td>\n",
              "      <td>T</td>\n",
              "      <td>F</td>\n",
              "      <td>0.0</td>\n",
              "      <td>0.0</td>\n",
              "      <td>29.087111</td>\n",
              "      <td>0.0</td>\n",
              "      <td>10.244023</td>\n",
              "      <td>0.000000</td>\n",
              "      <td>19.335718</td>\n",
              "      <td>12.893797</td>\n",
              "      <td>F</td>\n",
              "      <td>F</td>\n",
              "      <td>T</td>\n",
              "      <td>F</td>\n",
              "      <td>T</td>\n",
              "      <td>F</td>\n",
              "      <td>T</td>\n",
              "      <td>T</td>\n",
              "      <td>4.473009</td>\n",
              "      <td>2.708050</td>\n",
              "      <td>1.732051</td>\n",
              "      <td>3.555348</td>\n",
              "      <td>0.0</td>\n",
              "      <td>3.294354</td>\n",
              "      <td>3.147165</td>\n",
              "      <td>2.449490</td>\n",
              "      <td>F</td>\n",
              "      <td>T</td>\n",
              "      <td>T</td>\n",
              "      <td>10.244023</td>\n",
              "      <td>16.399085</td>\n",
              "      <td>T</td>\n",
              "      <td>T</td>\n",
              "    </tr>\n",
              "    <tr>\n",
              "      <th>4</th>\n",
              "      <td>9955600078517</td>\n",
              "      <td>1107</td>\n",
              "      <td>49</td>\n",
              "      <td>1</td>\n",
              "      <td>87.44</td>\n",
              "      <td>0</td>\n",
              "      <td>87.44</td>\n",
              "      <td>11</td>\n",
              "      <td>0.20</td>\n",
              "      <td>0.20</td>\n",
              "      <td>0.00</td>\n",
              "      <td>0.00</td>\n",
              "      <td>0.0</td>\n",
              "      <td>0.00</td>\n",
              "      <td>0.41</td>\n",
              "      <td>0.00</td>\n",
              "      <td>0.00</td>\n",
              "      <td>0.0</td>\n",
              "      <td>0.0</td>\n",
              "      <td>0.170000</td>\n",
              "      <td>0.00</td>\n",
              "      <td>0.00</td>\n",
              "      <td>0.00</td>\n",
              "      <td>0.0</td>\n",
              "      <td>0.0</td>\n",
              "      <td>87.44</td>\n",
              "      <td>0.0</td>\n",
              "      <td>87.44</td>\n",
              "      <td>0.00</td>\n",
              "      <td>87.44</td>\n",
              "      <td>0.00</td>\n",
              "      <td>0.22</td>\n",
              "      <td>0.0</td>\n",
              "      <td>49.0</td>\n",
              "      <td>49.00</td>\n",
              "      <td>0.42</td>\n",
              "      <td>4.0</td>\n",
              "      <td>0.0</td>\n",
              "      <td>8.0</td>\n",
              "      <td>1.0</td>\n",
              "      <td>...</td>\n",
              "      <td>T</td>\n",
              "      <td>F</td>\n",
              "      <td>F</td>\n",
              "      <td>F</td>\n",
              "      <td>F</td>\n",
              "      <td>T</td>\n",
              "      <td>F</td>\n",
              "      <td>F</td>\n",
              "      <td>F</td>\n",
              "      <td>0.0</td>\n",
              "      <td>0.0</td>\n",
              "      <td>9.350936</td>\n",
              "      <td>0.0</td>\n",
              "      <td>9.350936</td>\n",
              "      <td>0.000000</td>\n",
              "      <td>9.350936</td>\n",
              "      <td>0.000000</td>\n",
              "      <td>F</td>\n",
              "      <td>F</td>\n",
              "      <td>T</td>\n",
              "      <td>F</td>\n",
              "      <td>T</td>\n",
              "      <td>F</td>\n",
              "      <td>T</td>\n",
              "      <td>F</td>\n",
              "      <td>3.891820</td>\n",
              "      <td>1.386294</td>\n",
              "      <td>0.000000</td>\n",
              "      <td>2.079442</td>\n",
              "      <td>0.0</td>\n",
              "      <td>3.198673</td>\n",
              "      <td>3.350606</td>\n",
              "      <td>0.000000</td>\n",
              "      <td>F</td>\n",
              "      <td>F</td>\n",
              "      <td>T</td>\n",
              "      <td>9.350936</td>\n",
              "      <td>0.000000</td>\n",
              "      <td>F</td>\n",
              "      <td>T</td>\n",
              "    </tr>\n",
              "  </tbody>\n",
              "</table>\n",
              "<p>5 rows × 119 columns</p>\n",
              "</div>"
            ],
            "text/plain": [
              "           HHKEY  ZIP_CODE  ...  flag spending months 4 5 6  flag spending months 2 3\n",
              "0  9955600066402      1001  ...                           F                         F\n",
              "1  9955600073501      1028  ...                           T                         T\n",
              "2  9955600076313      1056  ...                           F                         F\n",
              "3  9955600078045      1118  ...                           T                         T\n",
              "4  9955600078517      1107  ...                           F                         T\n",
              "\n",
              "[5 rows x 119 columns]"
            ]
          },
          "metadata": {
            "tags": []
          },
          "execution_count": 4
        }
      ]
    },
    {
      "cell_type": "markdown",
      "metadata": {
        "id": "SDsSzG8ZwlK-"
      },
      "source": [
        "# EXPLORATORY DATA ANALYSIS"
      ]
    },
    {
      "cell_type": "code",
      "metadata": {
        "colab": {
          "base_uri": "https://localhost:8080/"
        },
        "id": "651klbySwlLA",
        "outputId": "9a5e45b8-8dbf-4840-f335-596a9212e5db"
      },
      "source": [
        "data.RESPONDED.unique()"
      ],
      "execution_count": 5,
      "outputs": [
        {
          "output_type": "execute_result",
          "data": {
            "text/plain": [
              "array([ 0.,  2.,  6.,  3.,  1.,  7.,  5.,  4.,  8., 10.,  9., nan])"
            ]
          },
          "metadata": {
            "tags": []
          },
          "execution_count": 5
        }
      ]
    },
    {
      "cell_type": "code",
      "metadata": {
        "colab": {
          "base_uri": "https://localhost:8080/"
        },
        "id": "fvWn5fWkwlLB",
        "outputId": "9fe55db7-4ee8-4111-bf12-f955801a1923"
      },
      "source": [
        "data['RESPONDED'].isnull().sum()"
      ],
      "execution_count": 6,
      "outputs": [
        {
          "output_type": "execute_result",
          "data": {
            "text/plain": [
              "1"
            ]
          },
          "metadata": {
            "tags": []
          },
          "execution_count": 6
        }
      ]
    },
    {
      "cell_type": "code",
      "metadata": {
        "id": "cKRobhv2wlLC"
      },
      "source": [
        "df = data.dropna()"
      ],
      "execution_count": 7,
      "outputs": []
    },
    {
      "cell_type": "code",
      "metadata": {
        "colab": {
          "base_uri": "https://localhost:8080/"
        },
        "id": "zHMON0DtwlLC",
        "outputId": "9d3bd059-4f27-4802-a307-7b1d513c5697"
      },
      "source": [
        "data.shape"
      ],
      "execution_count": 8,
      "outputs": [
        {
          "output_type": "execute_result",
          "data": {
            "text/plain": [
              "(2847, 119)"
            ]
          },
          "metadata": {
            "tags": []
          },
          "execution_count": 8
        }
      ]
    },
    {
      "cell_type": "code",
      "metadata": {
        "colab": {
          "base_uri": "https://localhost:8080/"
        },
        "id": "R6XUUJX_wlLD",
        "outputId": "cee1f911-b711-4b29-920d-9081032add47"
      },
      "source": [
        "df.shape"
      ],
      "execution_count": 9,
      "outputs": [
        {
          "output_type": "execute_result",
          "data": {
            "text/plain": [
              "(2619, 119)"
            ]
          },
          "metadata": {
            "tags": []
          },
          "execution_count": 9
        }
      ]
    },
    {
      "cell_type": "code",
      "metadata": {
        "colab": {
          "base_uri": "https://localhost:8080/"
        },
        "id": "D3KhUwT9wlLD",
        "outputId": "0a6ad9a6-5b2c-4fa0-9445-551402a5fcfc"
      },
      "source": [
        "data['RESPONDED'].unique()"
      ],
      "execution_count": 10,
      "outputs": [
        {
          "output_type": "execute_result",
          "data": {
            "text/plain": [
              "array([ 0.,  2.,  6.,  3.,  1.,  7.,  5.,  4.,  8., 10.,  9., nan])"
            ]
          },
          "metadata": {
            "tags": []
          },
          "execution_count": 10
        }
      ]
    },
    {
      "cell_type": "code",
      "metadata": {
        "colab": {
          "base_uri": "https://localhost:8080/"
        },
        "id": "40vuzb5ewlLE",
        "outputId": "64f7062a-4b72-42ef-b3a6-20c23232aa26"
      },
      "source": [
        "df['RESPONDED'].unique()"
      ],
      "execution_count": 11,
      "outputs": [
        {
          "output_type": "execute_result",
          "data": {
            "text/plain": [
              "array([ 0.,  2.,  6.,  3.,  1.,  7.,  5.,  4.,  8., 10.,  9.])"
            ]
          },
          "metadata": {
            "tags": []
          },
          "execution_count": 11
        }
      ]
    },
    {
      "cell_type": "code",
      "metadata": {
        "colab": {
          "base_uri": "https://localhost:8080/"
        },
        "id": "1BgEOB26wlLE",
        "outputId": "31fbefbf-27dc-473f-f8bd-d4c4f4c3c4e7"
      },
      "source": [
        "len(df['RESPONDED'].unique())"
      ],
      "execution_count": 12,
      "outputs": [
        {
          "output_type": "execute_result",
          "data": {
            "text/plain": [
              "11"
            ]
          },
          "metadata": {
            "tags": []
          },
          "execution_count": 12
        }
      ]
    },
    {
      "cell_type": "code",
      "metadata": {
        "colab": {
          "base_uri": "https://localhost:8080/"
        },
        "id": "mLwWpvITwlLE",
        "outputId": "f51cbf2f-a42d-4678-e949-cf5e72aedcdb"
      },
      "source": [
        "# store columns with specific data type\n",
        "integer_columns = df.select_dtypes(include=['int64']).columns\n",
        "float_columns = df.select_dtypes(include=['float64']).columns\n",
        "object_columns = df.select_dtypes(include=['object']).columns\n",
        "  \n",
        "# display columns\n",
        "print('\\nint64 columns:\\n',integer_columns)\n",
        "print('\\nfloat64 columns:\\n',float_columns)\n",
        "print('\\nobject columns:\\n',object_columns)"
      ],
      "execution_count": 13,
      "outputs": [
        {
          "output_type": "stream",
          "text": [
            "\n",
            "int64 columns:\n",
            " Index(['HHKEY', 'ZIP_CODE', 'REC', 'FRE', 'CC_CARD', 'PC_CALC20'], dtype='object')\n",
            "\n",
            "float64 columns:\n",
            " Index(['MON', 'AVRG', 'PSWEATERS', 'PKNIT_TOPS', 'PKNIT_DRES', 'PBLOUSES',\n",
            "       'PJACKETS', 'PCAR_PNTS', 'PCAS_PNTS', 'PSHIRTS', 'PDRESSES', 'PSUITS',\n",
            "       'POUTERWEAR', 'PJEWELRY', 'PFASHION', 'PLEGWEAR', 'PCOLLSPND',\n",
            "       'AMSPEND', 'PSSPEND', 'CCSPEND', 'AXSPEND', 'TMONSPEND', 'OMONSPEND',\n",
            "       'SMONSPEND', 'PREVPD', 'GMP', 'PROMOS', 'DAYS', 'FREDAYS', 'MARKDOWN',\n",
            "       'CLASSES', 'COUPONS', 'STYLES', 'STORES', 'STORELOY', 'WEB', 'MAILED',\n",
            "       'RESPONDED', 'RESPONSERATE', 'HI', 'LTFREDAY', 'CLUSTYPE', 'PERCRET',\n",
            "       'RESP', 'Tot_Spend', 'Sales per Visit', 'Spending_Month_2_3',\n",
            "       'Spending_Month_4_5_6', 'bc purchase visits', 'ln total net sales',\n",
            "       'ln_ave spending per visit', 'sqrt sweaters', 'sqrt knit tops',\n",
            "       'sqrt knit dresses', 'sqrt blouses', 'sqrt jackets',\n",
            "       'sqrt career pants', 'sqrt casual pants', 'sqrt shirts', 'sqrt dresses',\n",
            "       'sqrt suits', 'sqrt outerwear', 'sqrt jewelry', 'sqrt fashion',\n",
            "       'sqrt legwear', 'sqrt collectibles', 'sqrt spending AM',\n",
            "       'sqrt spending PS', 'sqrt spending CC', 'sqrt spending AX',\n",
            "       'sqrt spending last three months', 'sqrt spending last one month',\n",
            "       'sqrt spending last six months', 'sqrt spending SPLY',\n",
            "       'ln days between purchases', 'ln # different product classes',\n",
            "       'sqrt # coupons used', 'ln # individual items purchased', 'ln stores',\n",
            "       'ln lifetime ave time betw visits', 'ln product uniformity',\n",
            "       'sqrt responded', 'sqrt spending months 2 3',\n",
            "       'sqrt spending months 4 5 6'],\n",
            "      dtype='object')\n",
            "\n",
            "object columns:\n",
            " Index(['VALPHON', 'flag sweaters', 'flag knit tops', 'flag knit dresses',\n",
            "       'flag blouses', 'flag jackets', 'flag career pants',\n",
            "       'flag casual pants', 'flag shirts', 'flag dresses', 'flag suits',\n",
            "       'flag outerwear', 'flag jewelry', 'flag fashion', 'flag legwear',\n",
            "       'flag collectibles', 'flag spending AM', 'flag spending PS',\n",
            "       'flag spending CC', 'flag spending AX',\n",
            "       'flag spending last three months', 'flag spending last one month',\n",
            "       'flag spending last six months', 'flag spending SPLY', 'flag returns',\n",
            "       'flag response rate', 'flag markdown', 'flag spending months 4 5 6',\n",
            "       'flag spending months 2 3'],\n",
            "      dtype='object')\n"
          ],
          "name": "stdout"
        }
      ]
    },
    {
      "cell_type": "markdown",
      "metadata": {
        "id": "ecE2wCQtwlLF"
      },
      "source": [
        "# Visualisation"
      ]
    },
    {
      "cell_type": "code",
      "metadata": {
        "id": "LkEPQxuNwlLF"
      },
      "source": [
        "def plot_count(feature, title,size=1,df=data):\n",
        "    f, ax = plt.subplots(1,1, figsize=(4*size,4))\n",
        "    total = float(len(df))\n",
        "    g = sns.countplot(df[feature], order = df[feature].value_counts().index[:30], palette='Set3')\n",
        "    g.set_title(\"Number and percentage of {}\".format(title))\n",
        "    if(size > 2):\n",
        "        plt.xticks(rotation=90, size=8)\n",
        "    for p in ax.patches:\n",
        "        height = p.get_height()\n",
        "        ax.text(p.get_x()+p.get_width()/2.,\n",
        "                height + 3,\n",
        "                '{:1.2f}%'.format(100*height/total),\n",
        "                ha=\"center\") \n",
        "    plt.show()  "
      ],
      "execution_count": 14,
      "outputs": []
    },
    {
      "cell_type": "code",
      "metadata": {
        "id": "uKr1Kf5GwlLG"
      },
      "source": [
        "def plot_count(feature, title,size=1,df=data):\n",
        "    f, ax = plt.subplots(1,1, figsize=(4*size,4))\n",
        "    total = float(len(df))\n",
        "    g = sns.countplot(df[feature], order = df[feature].value_counts().index[:30], palette='Set3')\n",
        "    g.set_title(\"Number and percentage of {}\".format(title))\n",
        "    if(size > 2):\n",
        "        plt.xticks(rotation=90, size=8)\n",
        "    for p in ax.patches:\n",
        "        height = p.get_height()\n",
        "        ax.text(p.get_x()+p.get_width()/2.,\n",
        "                height + 3,\n",
        "                '{:1.2f}%'.format(100*height/total),\n",
        "                ha=\"center\") \n",
        "    plt.show() "
      ],
      "execution_count": 15,
      "outputs": []
    },
    {
      "cell_type": "code",
      "metadata": {
        "colab": {
          "base_uri": "https://localhost:8080/",
          "height": 357
        },
        "id": "3c5PWDdywlLG",
        "outputId": "61f89de9-b9a1-4787-ebae-dfaeec22e321"
      },
      "source": [
        "plot_count('RESPONDED','RESPONDED',5)"
      ],
      "execution_count": 16,
      "outputs": [
        {
          "output_type": "stream",
          "text": [
            "/usr/local/lib/python3.7/dist-packages/seaborn/_decorators.py:43: FutureWarning: Pass the following variable as a keyword arg: x. From version 0.12, the only valid positional argument will be `data`, and passing other arguments without an explicit keyword will result in an error or misinterpretation.\n",
            "  FutureWarning\n"
          ],
          "name": "stderr"
        },
        {
          "output_type": "display_data",
          "data": {
            "image/png": "[encoded data removed]",
            "text/plain": [
              "<Figure size 1440x288 with 1 Axes>"
            ]
          },
          "metadata": {
            "tags": [],
            "needs_background": "light"
          }
        }
      ]
    },
    {
      "cell_type": "code",
      "metadata": {
        "colab": {
          "base_uri": "https://localhost:8080/",
          "height": 357
        },
        "id": "w3uJHps9wlLG",
        "outputId": "1a1a0f95-4bfe-4028-c266-f0c149f47739"
      },
      "source": [
        "plot_count('MAILED','MAILED',5)"
      ],
      "execution_count": 17,
      "outputs": [
        {
          "output_type": "stream",
          "text": [
            "/usr/local/lib/python3.7/dist-packages/seaborn/_decorators.py:43: FutureWarning: Pass the following variable as a keyword arg: x. From version 0.12, the only valid positional argument will be `data`, and passing other arguments without an explicit keyword will result in an error or misinterpretation.\n",
            "  FutureWarning\n"
          ],
          "name": "stderr"
        },
        {
          "output_type": "display_data",
          "data": {
            "image/png": "[encoded data removed]",
            "text/plain": [
              "<Figure size 1440x288 with 1 Axes>"
            ]
          },
          "metadata": {
            "tags": [],
            "needs_background": "light"
          }
        }
      ]
    },
    {
      "cell_type": "code",
      "metadata": {
        "id": "UEY-ynUXwlLH"
      },
      "source": [
        ""
      ],
      "execution_count": 17,
      "outputs": []
    },
    {
      "cell_type": "code",
      "metadata": {
        "colab": {
          "base_uri": "https://localhost:8080/"
        },
        "id": "igr2yM26wlLH",
        "outputId": "801b396b-5ed2-47d4-d871-ae4a58471816"
      },
      "source": [
        "# df.select_dtypes(include=['category'])\n",
        "cat_var = [key for key in dict(df.dtypes)\n",
        "             if dict(df.dtypes)[key] in ['object'] ] # Categorical Varible\n",
        "\n",
        "cat_var"
      ],
      "execution_count": 18,
      "outputs": [
        {
          "output_type": "execute_result",
          "data": {
            "text/plain": [
              "['VALPHON',\n",
              " 'flag sweaters',\n",
              " 'flag knit tops',\n",
              " 'flag knit dresses',\n",
              " 'flag blouses',\n",
              " 'flag jackets',\n",
              " 'flag career pants',\n",
              " 'flag casual pants',\n",
              " 'flag shirts',\n",
              " 'flag dresses',\n",
              " 'flag suits',\n",
              " 'flag outerwear',\n",
              " 'flag jewelry',\n",
              " 'flag fashion',\n",
              " 'flag legwear',\n",
              " 'flag collectibles',\n",
              " 'flag spending AM',\n",
              " 'flag spending PS',\n",
              " 'flag spending CC',\n",
              " 'flag spending AX',\n",
              " 'flag spending last three months',\n",
              " 'flag spending last one month',\n",
              " 'flag spending last six months',\n",
              " 'flag spending SPLY',\n",
              " 'flag returns',\n",
              " 'flag response rate',\n",
              " 'flag markdown',\n",
              " 'flag spending months 4 5 6',\n",
              " 'flag spending months 2 3']"
            ]
          },
          "metadata": {
            "tags": []
          },
          "execution_count": 18
        }
      ]
    },
    {
      "cell_type": "code",
      "metadata": {
        "id": "8V2vdwE5wlLH"
      },
      "source": [
        "categorical_features = ['VALPHON',\n",
        " 'flag sweaters',\n",
        " 'flag knit tops',\n",
        " 'flag knit dresses',\n",
        " 'flag blouses',\n",
        " 'flag jackets',\n",
        " 'flag career pants',\n",
        " 'flag casual pants',\n",
        " 'flag shirts',\n",
        " 'flag dresses',\n",
        " 'flag suits',\n",
        " 'flag outerwear',\n",
        " 'flag jewelry',\n",
        " 'flag fashion',\n",
        " 'flag legwear',\n",
        " 'flag collectibles',\n",
        " 'flag spending AM',\n",
        " 'flag spending PS',\n",
        " 'flag spending CC',\n",
        " 'flag spending AX',\n",
        " 'flag spending last three months',\n",
        " 'flag spending last one month',\n",
        " 'flag spending last six months',\n",
        " 'flag spending SPLY',\n",
        " 'flag returns',\n",
        " 'flag response rate',\n",
        " 'flag markdown',\n",
        " 'flag spending months 4 5 6',\n",
        " 'flag spending months 2 3']"
      ],
      "execution_count": 19,
      "outputs": []
    },
    {
      "cell_type": "code",
      "metadata": {
        "id": "ky3woOjewlLI"
      },
      "source": [
        "def encrypt_single_column(data,column):\n",
        "    le = preprocessing.LabelEncoder()\n",
        "    le.fit(data.astype(str))\n",
        "    #le_name_mapping = dict(zip(le.transform(le.classes_), le.classes_))\n",
        "    return le.transform(data.astype(str))\n",
        "\n",
        "\n",
        "def encrypt_columns_collection(data, columns_to_encrypt):\n",
        "    for column in columns_to_encrypt:\n",
        "        data[column] = encrypt_single_column(data[column],column)\n",
        "    return data"
      ],
      "execution_count": 20,
      "outputs": []
    },
    {
      "cell_type": "code",
      "metadata": {
        "colab": {
          "base_uri": "https://localhost:8080/"
        },
        "id": "mQeVTuNSwlLI",
        "outputId": "19ebec49-a405-4743-ed80-77dc6698a9a0"
      },
      "source": [
        "df = encrypt_columns_collection(df, categorical_features)"
      ],
      "execution_count": 21,
      "outputs": [
        {
          "output_type": "stream",
          "text": [
            "/usr/local/lib/python3.7/dist-packages/ipykernel_launcher.py:10: SettingWithCopyWarning: \n",
            "A value is trying to be set on a copy of a slice from a DataFrame.\n",
            "Try using .loc[row_indexer,col_indexer] = value instead\n",
            "\n",
            "See the caveats in the documentation: https://pandas.pydata.org/pandas-docs/stable/user_guide/indexing.html#returning-a-view-versus-a-copy\n",
            "  # Remove the CWD from sys.path while we load stuff.\n"
          ],
          "name": "stderr"
        }
      ]
    },
    {
      "cell_type": "code",
      "metadata": {
        "colab": {
          "base_uri": "https://localhost:8080/",
          "height": 319
        },
        "id": "va9Z4g4XwlLI",
        "outputId": "1c16bea1-eed7-41df-832f-ce0fea17079a"
      },
      "source": [
        "df.head()"
      ],
      "execution_count": 22,
      "outputs": [
        {
          "output_type": "execute_result",
          "data": {
            "text/html": [
              "<div>\n",
              "<style scoped>\n",
              "    .dataframe tbody tr th:only-of-type {\n",
              "        vertical-align: middle;\n",
              "    }\n",
              "\n",
              "    .dataframe tbody tr th {\n",
              "        vertical-align: top;\n",
              "    }\n",
              "\n",
              "    .dataframe thead th {\n",
              "        text-align: right;\n",
              "    }\n",
              "</style>\n",
              "<table border=\"1\" class=\"dataframe\">\n",
              "  <thead>\n",
              "    <tr style=\"text-align: right;\">\n",
              "      <th></th>\n",
              "      <th>HHKEY</th>\n",
              "      <th>ZIP_CODE</th>\n",
              "      <th>REC</th>\n",
              "      <th>FRE</th>\n",
              "      <th>MON</th>\n",
              "      <th>CC_CARD</th>\n",
              "      <th>AVRG</th>\n",
              "      <th>PC_CALC20</th>\n",
              "      <th>PSWEATERS</th>\n",
              "      <th>PKNIT_TOPS</th>\n",
              "      <th>PKNIT_DRES</th>\n",
              "      <th>PBLOUSES</th>\n",
              "      <th>PJACKETS</th>\n",
              "      <th>PCAR_PNTS</th>\n",
              "      <th>PCAS_PNTS</th>\n",
              "      <th>PSHIRTS</th>\n",
              "      <th>PDRESSES</th>\n",
              "      <th>PSUITS</th>\n",
              "      <th>POUTERWEAR</th>\n",
              "      <th>PJEWELRY</th>\n",
              "      <th>PFASHION</th>\n",
              "      <th>PLEGWEAR</th>\n",
              "      <th>PCOLLSPND</th>\n",
              "      <th>AMSPEND</th>\n",
              "      <th>PSSPEND</th>\n",
              "      <th>CCSPEND</th>\n",
              "      <th>AXSPEND</th>\n",
              "      <th>TMONSPEND</th>\n",
              "      <th>OMONSPEND</th>\n",
              "      <th>SMONSPEND</th>\n",
              "      <th>PREVPD</th>\n",
              "      <th>GMP</th>\n",
              "      <th>PROMOS</th>\n",
              "      <th>DAYS</th>\n",
              "      <th>FREDAYS</th>\n",
              "      <th>MARKDOWN</th>\n",
              "      <th>CLASSES</th>\n",
              "      <th>COUPONS</th>\n",
              "      <th>STYLES</th>\n",
              "      <th>STORES</th>\n",
              "      <th>...</th>\n",
              "      <th>flag casual pants</th>\n",
              "      <th>flag shirts</th>\n",
              "      <th>flag dresses</th>\n",
              "      <th>flag suits</th>\n",
              "      <th>flag outerwear</th>\n",
              "      <th>flag jewelry</th>\n",
              "      <th>flag fashion</th>\n",
              "      <th>flag legwear</th>\n",
              "      <th>flag collectibles</th>\n",
              "      <th>sqrt spending AM</th>\n",
              "      <th>sqrt spending PS</th>\n",
              "      <th>sqrt spending CC</th>\n",
              "      <th>sqrt spending AX</th>\n",
              "      <th>sqrt spending last three months</th>\n",
              "      <th>sqrt spending last one month</th>\n",
              "      <th>sqrt spending last six months</th>\n",
              "      <th>sqrt spending SPLY</th>\n",
              "      <th>flag spending AM</th>\n",
              "      <th>flag spending PS</th>\n",
              "      <th>flag spending CC</th>\n",
              "      <th>flag spending AX</th>\n",
              "      <th>flag spending last three months</th>\n",
              "      <th>flag spending last one month</th>\n",
              "      <th>flag spending last six months</th>\n",
              "      <th>flag spending SPLY</th>\n",
              "      <th>ln days between purchases</th>\n",
              "      <th>ln # different product classes</th>\n",
              "      <th>sqrt # coupons used</th>\n",
              "      <th>ln # individual items purchased</th>\n",
              "      <th>ln stores</th>\n",
              "      <th>ln lifetime ave time betw visits</th>\n",
              "      <th>ln product uniformity</th>\n",
              "      <th>sqrt responded</th>\n",
              "      <th>flag returns</th>\n",
              "      <th>flag response rate</th>\n",
              "      <th>flag markdown</th>\n",
              "      <th>sqrt spending months 2 3</th>\n",
              "      <th>sqrt spending months 4 5 6</th>\n",
              "      <th>flag spending months 4 5 6</th>\n",
              "      <th>flag spending months 2 3</th>\n",
              "    </tr>\n",
              "  </thead>\n",
              "  <tbody>\n",
              "    <tr>\n",
              "      <th>0</th>\n",
              "      <td>9955600066402</td>\n",
              "      <td>1001</td>\n",
              "      <td>208</td>\n",
              "      <td>2</td>\n",
              "      <td>368.46</td>\n",
              "      <td>0</td>\n",
              "      <td>184.23</td>\n",
              "      <td>11</td>\n",
              "      <td>0.18</td>\n",
              "      <td>0.00</td>\n",
              "      <td>0.00</td>\n",
              "      <td>0.30</td>\n",
              "      <td>0.0</td>\n",
              "      <td>0.25</td>\n",
              "      <td>0.00</td>\n",
              "      <td>0.19</td>\n",
              "      <td>0.00</td>\n",
              "      <td>0.0</td>\n",
              "      <td>0.0</td>\n",
              "      <td>0.000000</td>\n",
              "      <td>0.02</td>\n",
              "      <td>0.03</td>\n",
              "      <td>0.29</td>\n",
              "      <td>0.0</td>\n",
              "      <td>0.0</td>\n",
              "      <td>368.46</td>\n",
              "      <td>0.0</td>\n",
              "      <td>0.00</td>\n",
              "      <td>0.00</td>\n",
              "      <td>0.00</td>\n",
              "      <td>0.00</td>\n",
              "      <td>0.60</td>\n",
              "      <td>17.0</td>\n",
              "      <td>666.0</td>\n",
              "      <td>333.00</td>\n",
              "      <td>0.08</td>\n",
              "      <td>9.0</td>\n",
              "      <td>1.0</td>\n",
              "      <td>11.0</td>\n",
              "      <td>1.0</td>\n",
              "      <td>...</td>\n",
              "      <td>0</td>\n",
              "      <td>1</td>\n",
              "      <td>0</td>\n",
              "      <td>0</td>\n",
              "      <td>0</td>\n",
              "      <td>0</td>\n",
              "      <td>1</td>\n",
              "      <td>1</td>\n",
              "      <td>1</td>\n",
              "      <td>0.0</td>\n",
              "      <td>0.0</td>\n",
              "      <td>19.195312</td>\n",
              "      <td>0.0</td>\n",
              "      <td>0.000000</td>\n",
              "      <td>0.000000</td>\n",
              "      <td>0.000000</td>\n",
              "      <td>0.000000</td>\n",
              "      <td>0</td>\n",
              "      <td>0</td>\n",
              "      <td>0</td>\n",
              "      <td>0</td>\n",
              "      <td>0</td>\n",
              "      <td>0</td>\n",
              "      <td>0</td>\n",
              "      <td>0</td>\n",
              "      <td>5.808142</td>\n",
              "      <td>2.197225</td>\n",
              "      <td>1.000000</td>\n",
              "      <td>2.397895</td>\n",
              "      <td>0.0</td>\n",
              "      <td>4.709530</td>\n",
              "      <td>3.459781</td>\n",
              "      <td>0.000000</td>\n",
              "      <td>0</td>\n",
              "      <td>0</td>\n",
              "      <td>1</td>\n",
              "      <td>0.000000</td>\n",
              "      <td>0.000000</td>\n",
              "      <td>0</td>\n",
              "      <td>0</td>\n",
              "    </tr>\n",
              "    <tr>\n",
              "      <th>1</th>\n",
              "      <td>9955600073501</td>\n",
              "      <td>1028</td>\n",
              "      <td>6</td>\n",
              "      <td>4</td>\n",
              "      <td>258.00</td>\n",
              "      <td>1</td>\n",
              "      <td>64.50</td>\n",
              "      <td>11</td>\n",
              "      <td>0.26</td>\n",
              "      <td>0.16</td>\n",
              "      <td>0.00</td>\n",
              "      <td>0.00</td>\n",
              "      <td>0.0</td>\n",
              "      <td>0.18</td>\n",
              "      <td>0.14</td>\n",
              "      <td>0.00</td>\n",
              "      <td>0.18</td>\n",
              "      <td>0.0</td>\n",
              "      <td>0.0</td>\n",
              "      <td>0.000000</td>\n",
              "      <td>0.00</td>\n",
              "      <td>0.02</td>\n",
              "      <td>0.37</td>\n",
              "      <td>0.0</td>\n",
              "      <td>0.0</td>\n",
              "      <td>258.00</td>\n",
              "      <td>0.0</td>\n",
              "      <td>138.00</td>\n",
              "      <td>55.99</td>\n",
              "      <td>258.00</td>\n",
              "      <td>0.00</td>\n",
              "      <td>0.54</td>\n",
              "      <td>14.0</td>\n",
              "      <td>696.0</td>\n",
              "      <td>174.00</td>\n",
              "      <td>0.33</td>\n",
              "      <td>6.0</td>\n",
              "      <td>0.0</td>\n",
              "      <td>14.0</td>\n",
              "      <td>1.0</td>\n",
              "      <td>...</td>\n",
              "      <td>1</td>\n",
              "      <td>0</td>\n",
              "      <td>1</td>\n",
              "      <td>0</td>\n",
              "      <td>0</td>\n",
              "      <td>0</td>\n",
              "      <td>0</td>\n",
              "      <td>1</td>\n",
              "      <td>1</td>\n",
              "      <td>0.0</td>\n",
              "      <td>0.0</td>\n",
              "      <td>16.062378</td>\n",
              "      <td>0.0</td>\n",
              "      <td>11.747340</td>\n",
              "      <td>7.482647</td>\n",
              "      <td>16.062378</td>\n",
              "      <td>0.000000</td>\n",
              "      <td>0</td>\n",
              "      <td>0</td>\n",
              "      <td>0</td>\n",
              "      <td>0</td>\n",
              "      <td>1</td>\n",
              "      <td>1</td>\n",
              "      <td>1</td>\n",
              "      <td>0</td>\n",
              "      <td>5.159055</td>\n",
              "      <td>1.791759</td>\n",
              "      <td>0.000000</td>\n",
              "      <td>2.639057</td>\n",
              "      <td>0.0</td>\n",
              "      <td>3.772761</td>\n",
              "      <td>3.487987</td>\n",
              "      <td>1.414214</td>\n",
              "      <td>1</td>\n",
              "      <td>1</td>\n",
              "      <td>1</td>\n",
              "      <td>9.055937</td>\n",
              "      <td>10.954451</td>\n",
              "      <td>1</td>\n",
              "      <td>1</td>\n",
              "    </tr>\n",
              "    <tr>\n",
              "      <th>2</th>\n",
              "      <td>9955600076313</td>\n",
              "      <td>1056</td>\n",
              "      <td>327</td>\n",
              "      <td>2</td>\n",
              "      <td>77.00</td>\n",
              "      <td>0</td>\n",
              "      <td>38.50</td>\n",
              "      <td>11</td>\n",
              "      <td>1.00</td>\n",
              "      <td>0.00</td>\n",
              "      <td>0.00</td>\n",
              "      <td>0.00</td>\n",
              "      <td>0.0</td>\n",
              "      <td>0.00</td>\n",
              "      <td>0.00</td>\n",
              "      <td>0.00</td>\n",
              "      <td>0.00</td>\n",
              "      <td>0.0</td>\n",
              "      <td>0.0</td>\n",
              "      <td>0.000000</td>\n",
              "      <td>0.00</td>\n",
              "      <td>0.00</td>\n",
              "      <td>0.00</td>\n",
              "      <td>0.0</td>\n",
              "      <td>0.0</td>\n",
              "      <td>77.00</td>\n",
              "      <td>0.0</td>\n",
              "      <td>0.00</td>\n",
              "      <td>0.00</td>\n",
              "      <td>0.00</td>\n",
              "      <td>39.00</td>\n",
              "      <td>0.62</td>\n",
              "      <td>10.0</td>\n",
              "      <td>343.0</td>\n",
              "      <td>171.50</td>\n",
              "      <td>0.11</td>\n",
              "      <td>1.0</td>\n",
              "      <td>0.0</td>\n",
              "      <td>2.0</td>\n",
              "      <td>1.0</td>\n",
              "      <td>...</td>\n",
              "      <td>0</td>\n",
              "      <td>0</td>\n",
              "      <td>0</td>\n",
              "      <td>0</td>\n",
              "      <td>0</td>\n",
              "      <td>0</td>\n",
              "      <td>0</td>\n",
              "      <td>0</td>\n",
              "      <td>0</td>\n",
              "      <td>0.0</td>\n",
              "      <td>0.0</td>\n",
              "      <td>8.774964</td>\n",
              "      <td>0.0</td>\n",
              "      <td>0.000000</td>\n",
              "      <td>0.000000</td>\n",
              "      <td>0.000000</td>\n",
              "      <td>6.244998</td>\n",
              "      <td>0</td>\n",
              "      <td>0</td>\n",
              "      <td>0</td>\n",
              "      <td>0</td>\n",
              "      <td>0</td>\n",
              "      <td>0</td>\n",
              "      <td>0</td>\n",
              "      <td>1</td>\n",
              "      <td>5.144583</td>\n",
              "      <td>0.000000</td>\n",
              "      <td>0.000000</td>\n",
              "      <td>0.693147</td>\n",
              "      <td>0.0</td>\n",
              "      <td>4.228293</td>\n",
              "      <td>4.605170</td>\n",
              "      <td>0.000000</td>\n",
              "      <td>0</td>\n",
              "      <td>0</td>\n",
              "      <td>1</td>\n",
              "      <td>0.000000</td>\n",
              "      <td>0.000000</td>\n",
              "      <td>0</td>\n",
              "      <td>0</td>\n",
              "    </tr>\n",
              "    <tr>\n",
              "      <th>3</th>\n",
              "      <td>9955600078045</td>\n",
              "      <td>1118</td>\n",
              "      <td>66</td>\n",
              "      <td>8</td>\n",
              "      <td>846.06</td>\n",
              "      <td>1</td>\n",
              "      <td>105.75</td>\n",
              "      <td>11</td>\n",
              "      <td>0.38</td>\n",
              "      <td>0.00</td>\n",
              "      <td>0.05</td>\n",
              "      <td>0.06</td>\n",
              "      <td>0.2</td>\n",
              "      <td>0.17</td>\n",
              "      <td>0.00</td>\n",
              "      <td>0.05</td>\n",
              "      <td>0.00</td>\n",
              "      <td>0.0</td>\n",
              "      <td>0.0</td>\n",
              "      <td>0.005307</td>\n",
              "      <td>0.03</td>\n",
              "      <td>0.01</td>\n",
              "      <td>0.00</td>\n",
              "      <td>0.0</td>\n",
              "      <td>0.0</td>\n",
              "      <td>846.06</td>\n",
              "      <td>0.0</td>\n",
              "      <td>104.94</td>\n",
              "      <td>0.00</td>\n",
              "      <td>373.87</td>\n",
              "      <td>166.25</td>\n",
              "      <td>0.43</td>\n",
              "      <td>24.0</td>\n",
              "      <td>701.0</td>\n",
              "      <td>87.62</td>\n",
              "      <td>0.29</td>\n",
              "      <td>15.0</td>\n",
              "      <td>3.0</td>\n",
              "      <td>35.0</td>\n",
              "      <td>1.0</td>\n",
              "      <td>...</td>\n",
              "      <td>0</td>\n",
              "      <td>1</td>\n",
              "      <td>0</td>\n",
              "      <td>0</td>\n",
              "      <td>0</td>\n",
              "      <td>1</td>\n",
              "      <td>1</td>\n",
              "      <td>1</td>\n",
              "      <td>0</td>\n",
              "      <td>0.0</td>\n",
              "      <td>0.0</td>\n",
              "      <td>29.087111</td>\n",
              "      <td>0.0</td>\n",
              "      <td>10.244023</td>\n",
              "      <td>0.000000</td>\n",
              "      <td>19.335718</td>\n",
              "      <td>12.893797</td>\n",
              "      <td>0</td>\n",
              "      <td>0</td>\n",
              "      <td>0</td>\n",
              "      <td>0</td>\n",
              "      <td>1</td>\n",
              "      <td>0</td>\n",
              "      <td>1</td>\n",
              "      <td>1</td>\n",
              "      <td>4.473009</td>\n",
              "      <td>2.708050</td>\n",
              "      <td>1.732051</td>\n",
              "      <td>3.555348</td>\n",
              "      <td>0.0</td>\n",
              "      <td>3.294354</td>\n",
              "      <td>3.147165</td>\n",
              "      <td>2.449490</td>\n",
              "      <td>0</td>\n",
              "      <td>1</td>\n",
              "      <td>1</td>\n",
              "      <td>10.244023</td>\n",
              "      <td>16.399085</td>\n",
              "      <td>1</td>\n",
              "      <td>1</td>\n",
              "    </tr>\n",
              "    <tr>\n",
              "      <th>4</th>\n",
              "      <td>9955600078517</td>\n",
              "      <td>1107</td>\n",
              "      <td>49</td>\n",
              "      <td>1</td>\n",
              "      <td>87.44</td>\n",
              "      <td>0</td>\n",
              "      <td>87.44</td>\n",
              "      <td>11</td>\n",
              "      <td>0.20</td>\n",
              "      <td>0.20</td>\n",
              "      <td>0.00</td>\n",
              "      <td>0.00</td>\n",
              "      <td>0.0</td>\n",
              "      <td>0.00</td>\n",
              "      <td>0.41</td>\n",
              "      <td>0.00</td>\n",
              "      <td>0.00</td>\n",
              "      <td>0.0</td>\n",
              "      <td>0.0</td>\n",
              "      <td>0.170000</td>\n",
              "      <td>0.00</td>\n",
              "      <td>0.00</td>\n",
              "      <td>0.00</td>\n",
              "      <td>0.0</td>\n",
              "      <td>0.0</td>\n",
              "      <td>87.44</td>\n",
              "      <td>0.0</td>\n",
              "      <td>87.44</td>\n",
              "      <td>0.00</td>\n",
              "      <td>87.44</td>\n",
              "      <td>0.00</td>\n",
              "      <td>0.22</td>\n",
              "      <td>0.0</td>\n",
              "      <td>49.0</td>\n",
              "      <td>49.00</td>\n",
              "      <td>0.42</td>\n",
              "      <td>4.0</td>\n",
              "      <td>0.0</td>\n",
              "      <td>8.0</td>\n",
              "      <td>1.0</td>\n",
              "      <td>...</td>\n",
              "      <td>1</td>\n",
              "      <td>0</td>\n",
              "      <td>0</td>\n",
              "      <td>0</td>\n",
              "      <td>0</td>\n",
              "      <td>1</td>\n",
              "      <td>0</td>\n",
              "      <td>0</td>\n",
              "      <td>0</td>\n",
              "      <td>0.0</td>\n",
              "      <td>0.0</td>\n",
              "      <td>9.350936</td>\n",
              "      <td>0.0</td>\n",
              "      <td>9.350936</td>\n",
              "      <td>0.000000</td>\n",
              "      <td>9.350936</td>\n",
              "      <td>0.000000</td>\n",
              "      <td>0</td>\n",
              "      <td>0</td>\n",
              "      <td>0</td>\n",
              "      <td>0</td>\n",
              "      <td>1</td>\n",
              "      <td>0</td>\n",
              "      <td>1</td>\n",
              "      <td>0</td>\n",
              "      <td>3.891820</td>\n",
              "      <td>1.386294</td>\n",
              "      <td>0.000000</td>\n",
              "      <td>2.079442</td>\n",
              "      <td>0.0</td>\n",
              "      <td>3.198673</td>\n",
              "      <td>3.350606</td>\n",
              "      <td>0.000000</td>\n",
              "      <td>0</td>\n",
              "      <td>0</td>\n",
              "      <td>1</td>\n",
              "      <td>9.350936</td>\n",
              "      <td>0.000000</td>\n",
              "      <td>0</td>\n",
              "      <td>1</td>\n",
              "    </tr>\n",
              "  </tbody>\n",
              "</table>\n",
              "<p>5 rows × 119 columns</p>\n",
              "</div>"
            ],
            "text/plain": [
              "           HHKEY  ...  flag spending months 2 3\n",
              "0  9955600066402  ...                         0\n",
              "1  9955600073501  ...                         1\n",
              "2  9955600076313  ...                         0\n",
              "3  9955600078045  ...                         1\n",
              "4  9955600078517  ...                         1\n",
              "\n",
              "[5 rows x 119 columns]"
            ]
          },
          "metadata": {
            "tags": []
          },
          "execution_count": 22
        }
      ]
    },
    {
      "cell_type": "code",
      "metadata": {
        "colab": {
          "base_uri": "https://localhost:8080/"
        },
        "id": "ya5rEFlFwlLI",
        "outputId": "7832b312-ab11-48d6-cef0-71491b856b2f"
      },
      "source": [
        "df.VALPHON.head()"
      ],
      "execution_count": 23,
      "outputs": [
        {
          "output_type": "execute_result",
          "data": {
            "text/plain": [
              "0    0\n",
              "1    1\n",
              "2    0\n",
              "3    1\n",
              "4    1\n",
              "Name: VALPHON, dtype: int64"
            ]
          },
          "metadata": {
            "tags": []
          },
          "execution_count": 23
        }
      ]
    },
    {
      "cell_type": "code",
      "metadata": {
        "id": "ovwueyNUwlLI"
      },
      "source": [
        "train_df, test_df = train_test_split(df, test_size=0.2, random_state=42, shuffle=True )"
      ],
      "execution_count": 24,
      "outputs": []
    },
    {
      "cell_type": "code",
      "metadata": {
        "id": "7NI03DfMwlLJ"
      },
      "source": [
        ""
      ],
      "execution_count": 24,
      "outputs": []
    },
    {
      "cell_type": "code",
      "metadata": {
        "colab": {
          "base_uri": "https://localhost:8080/"
        },
        "id": "N9khqdOzwlLJ",
        "outputId": "cf66c7d6-4b73-4f53-c920-c14e54688acf"
      },
      "source": [
        "df.columns"
      ],
      "execution_count": 25,
      "outputs": [
        {
          "output_type": "execute_result",
          "data": {
            "text/plain": [
              "Index(['HHKEY', 'ZIP_CODE', 'REC', 'FRE', 'MON', 'CC_CARD', 'AVRG',\n",
              "       'PC_CALC20', 'PSWEATERS', 'PKNIT_TOPS',\n",
              "       ...\n",
              "       'ln lifetime ave time betw visits', 'ln product uniformity',\n",
              "       'sqrt responded', 'flag returns', 'flag response rate', 'flag markdown',\n",
              "       'sqrt spending months 2 3', 'sqrt spending months 4 5 6',\n",
              "       'flag spending months 4 5 6', 'flag spending months 2 3'],\n",
              "      dtype='object', length=119)"
            ]
          },
          "metadata": {
            "tags": []
          },
          "execution_count": 25
        }
      ]
    },
    {
      "cell_type": "code",
      "metadata": {
        "colab": {
          "base_uri": "https://localhost:8080/"
        },
        "id": "bd_ZVYCcwlLJ",
        "outputId": "9b246713-ecd3-4d99-8412-8f313c7b7159"
      },
      "source": [
        "print(df.columns.tolist())"
      ],
      "execution_count": 26,
      "outputs": [
        {
          "output_type": "stream",
          "text": [
            "['HHKEY', 'ZIP_CODE', 'REC', 'FRE', 'MON', 'CC_CARD', 'AVRG', 'PC_CALC20', 'PSWEATERS', 'PKNIT_TOPS', 'PKNIT_DRES', 'PBLOUSES', 'PJACKETS', 'PCAR_PNTS', 'PCAS_PNTS', 'PSHIRTS', 'PDRESSES', 'PSUITS', 'POUTERWEAR', 'PJEWELRY', 'PFASHION', 'PLEGWEAR', 'PCOLLSPND', 'AMSPEND', 'PSSPEND', 'CCSPEND', 'AXSPEND', 'TMONSPEND', 'OMONSPEND', 'SMONSPEND', 'PREVPD', 'GMP', 'PROMOS', 'DAYS', 'FREDAYS', 'MARKDOWN', 'CLASSES', 'COUPONS', 'STYLES', 'STORES', 'STORELOY', 'VALPHON', 'WEB', 'MAILED', 'RESPONDED', 'RESPONSERATE', 'HI', 'LTFREDAY', 'CLUSTYPE', 'PERCRET', 'RESP', 'Tot_Spend', 'Sales per Visit', 'Spending_Month_2_3', 'Spending_Month_4_5_6', 'bc purchase visits', 'ln total net sales', 'ln_ave spending per visit', 'sqrt sweaters', 'sqrt knit tops', 'sqrt knit dresses', 'sqrt blouses', 'sqrt jackets', 'sqrt career pants', 'sqrt casual pants', 'sqrt shirts', 'sqrt dresses', 'sqrt suits', 'sqrt outerwear', 'sqrt jewelry', 'sqrt fashion', 'sqrt legwear', 'sqrt collectibles', 'flag sweaters', 'flag knit tops', 'flag knit dresses', 'flag blouses', 'flag jackets', 'flag career pants', 'flag casual pants', 'flag shirts', 'flag dresses', 'flag suits', 'flag outerwear', 'flag jewelry', 'flag fashion', 'flag legwear', 'flag collectibles', 'sqrt spending AM', 'sqrt spending PS', 'sqrt spending CC', 'sqrt spending AX', 'sqrt spending last three months', 'sqrt spending last one month', 'sqrt spending last six months', 'sqrt spending SPLY', 'flag spending AM', 'flag spending PS', 'flag spending CC', 'flag spending AX', 'flag spending last three months', 'flag spending last one month', 'flag spending last six months', 'flag spending SPLY', 'ln days between purchases', 'ln # different product classes', 'sqrt # coupons used', 'ln # individual items purchased', 'ln stores', 'ln lifetime ave time betw visits', 'ln product uniformity', 'sqrt responded', 'flag returns', 'flag response rate', 'flag markdown', 'sqrt spending months 2 3', 'sqrt spending months 4 5 6', 'flag spending months 4 5 6', 'flag spending months 2 3']\n"
          ],
          "name": "stdout"
        }
      ]
    },
    {
      "cell_type": "markdown",
      "metadata": {
        "id": "3ao9R6ZzwlLJ"
      },
      "source": [
        "# FEATURE ENGINEERING"
      ]
    },
    {
      "cell_type": "code",
      "metadata": {
        "id": "bQ1dFopSwlLJ"
      },
      "source": [
        "predictors = ['HHKEY', 'ZIP_CODE', 'REC', 'FRE', 'MON', 'CC_CARD', 'AVRG', 'PC_CALC20', 'PSWEATERS', 'PKNIT_TOPS', 'PKNIT_DRES', 'PBLOUSES', 'PJACKETS', 'PCAR_PNTS', 'PCAS_PNTS', 'PSHIRTS', 'PDRESSES', 'PSUITS', 'POUTERWEAR', 'PJEWELRY', 'PFASHION', 'PLEGWEAR', 'PCOLLSPND', 'AMSPEND', 'PSSPEND', 'CCSPEND', 'AXSPEND', 'TMONSPEND', 'OMONSPEND', 'SMONSPEND', 'PREVPD', 'GMP', 'PROMOS', 'DAYS', 'FREDAYS', 'MARKDOWN', 'CLASSES', 'COUPONS', 'STYLES', 'STORES', 'STORELOY', 'VALPHON', 'WEB', 'MAILED', 'RESPONSERATE', 'HI', 'LTFREDAY', 'CLUSTYPE', 'PERCRET', 'RESP', 'Tot_Spend', 'Sales per Visit', 'Spending_Month_2_3', 'Spending_Month_4_5_6', 'bc purchase visits', 'ln total net sales', 'ln_ave spending per visit', 'sqrt sweaters', 'sqrt knit tops', 'sqrt knit dresses', 'sqrt blouses', 'sqrt jackets', 'sqrt career pants', 'sqrt casual pants', 'sqrt shirts', 'sqrt dresses', 'sqrt suits', 'sqrt outerwear', 'sqrt jewelry', 'sqrt fashion', 'sqrt legwear', 'sqrt collectibles', 'flag sweaters', 'flag knit tops', 'flag knit dresses', 'flag blouses', 'flag jackets', 'flag career pants', 'flag casual pants', 'flag shirts', 'flag dresses', 'flag suits', 'flag outerwear', 'flag jewelry', 'flag fashion', 'flag legwear', 'flag collectibles', 'sqrt spending AM', 'sqrt spending PS', 'sqrt spending CC', 'sqrt spending AX', 'sqrt spending last three months', 'sqrt spending last one month', 'sqrt spending last six months', 'sqrt spending SPLY', 'flag spending AM', 'flag spending PS', 'flag spending CC', 'flag spending AX', 'flag spending last three months', 'flag spending last one month', 'flag spending last six months', 'flag spending SPLY', 'ln days between purchases', 'ln # different product classes', 'sqrt # coupons used', 'ln # individual items purchased', 'ln stores', 'ln lifetime ave time betw visits', 'ln product uniformity', 'sqrt responded', 'flag returns', 'flag response rate', 'flag markdown', 'sqrt spending months 2 3', 'sqrt spending months 4 5 6', 'flag spending months 4 5 6', 'flag spending months 2 3']"
      ],
      "execution_count": 27,
      "outputs": []
    },
    {
      "cell_type": "code",
      "metadata": {
        "id": "z5oEEnRxwlLK"
      },
      "source": [
        "train_X = train_df[predictors]\n",
        "test_X = test_df[predictors]\n",
        "train_y = train_df['RESPONDED']\n",
        "test_y = test_df['RESPONDED']"
      ],
      "execution_count": 28,
      "outputs": []
    },
    {
      "cell_type": "code",
      "metadata": {
        "colab": {
          "base_uri": "https://localhost:8080/"
        },
        "id": "pD3QMvWvwlLK",
        "outputId": "982197cd-d12e-425d-da34-45c709abe48b"
      },
      "source": [
        "print(train_X.shape)\n",
        "print(test_X.shape)\n",
        "print(train_y.shape)\n",
        "print(test_y.shape)"
      ],
      "execution_count": 29,
      "outputs": [
        {
          "output_type": "stream",
          "text": [
            "(2095, 118)\n",
            "(524, 118)\n",
            "(2095,)\n",
            "(524,)\n"
          ],
          "name": "stdout"
        }
      ]
    },
    {
      "cell_type": "code",
      "metadata": {
        "id": "XWg-wyw1wlLL"
      },
      "source": [
        "y = df['RESPONDED']\n",
        "X = df.drop('RESPONDED', 1)\n"
      ],
      "execution_count": 30,
      "outputs": []
    },
    {
      "cell_type": "code",
      "metadata": {
        "colab": {
          "base_uri": "https://localhost:8080/",
          "height": 319
        },
        "id": "DazLFRSgwlLM",
        "outputId": "24f285f5-eb05-4c62-fc12-96f9ca18fe06"
      },
      "source": [
        "X.head()"
      ],
      "execution_count": 31,
      "outputs": [
        {
          "output_type": "execute_result",
          "data": {
            "text/html": [
              "<div>\n",
              "<style scoped>\n",
              "    .dataframe tbody tr th:only-of-type {\n",
              "        vertical-align: middle;\n",
              "    }\n",
              "\n",
              "    .dataframe tbody tr th {\n",
              "        vertical-align: top;\n",
              "    }\n",
              "\n",
              "    .dataframe thead th {\n",
              "        text-align: right;\n",
              "    }\n",
              "</style>\n",
              "<table border=\"1\" class=\"dataframe\">\n",
              "  <thead>\n",
              "    <tr style=\"text-align: right;\">\n",
              "      <th></th>\n",
              "      <th>HHKEY</th>\n",
              "      <th>ZIP_CODE</th>\n",
              "      <th>REC</th>\n",
              "      <th>FRE</th>\n",
              "      <th>MON</th>\n",
              "      <th>CC_CARD</th>\n",
              "      <th>AVRG</th>\n",
              "      <th>PC_CALC20</th>\n",
              "      <th>PSWEATERS</th>\n",
              "      <th>PKNIT_TOPS</th>\n",
              "      <th>PKNIT_DRES</th>\n",
              "      <th>PBLOUSES</th>\n",
              "      <th>PJACKETS</th>\n",
              "      <th>PCAR_PNTS</th>\n",
              "      <th>PCAS_PNTS</th>\n",
              "      <th>PSHIRTS</th>\n",
              "      <th>PDRESSES</th>\n",
              "      <th>PSUITS</th>\n",
              "      <th>POUTERWEAR</th>\n",
              "      <th>PJEWELRY</th>\n",
              "      <th>PFASHION</th>\n",
              "      <th>PLEGWEAR</th>\n",
              "      <th>PCOLLSPND</th>\n",
              "      <th>AMSPEND</th>\n",
              "      <th>PSSPEND</th>\n",
              "      <th>CCSPEND</th>\n",
              "      <th>AXSPEND</th>\n",
              "      <th>TMONSPEND</th>\n",
              "      <th>OMONSPEND</th>\n",
              "      <th>SMONSPEND</th>\n",
              "      <th>PREVPD</th>\n",
              "      <th>GMP</th>\n",
              "      <th>PROMOS</th>\n",
              "      <th>DAYS</th>\n",
              "      <th>FREDAYS</th>\n",
              "      <th>MARKDOWN</th>\n",
              "      <th>CLASSES</th>\n",
              "      <th>COUPONS</th>\n",
              "      <th>STYLES</th>\n",
              "      <th>STORES</th>\n",
              "      <th>...</th>\n",
              "      <th>flag casual pants</th>\n",
              "      <th>flag shirts</th>\n",
              "      <th>flag dresses</th>\n",
              "      <th>flag suits</th>\n",
              "      <th>flag outerwear</th>\n",
              "      <th>flag jewelry</th>\n",
              "      <th>flag fashion</th>\n",
              "      <th>flag legwear</th>\n",
              "      <th>flag collectibles</th>\n",
              "      <th>sqrt spending AM</th>\n",
              "      <th>sqrt spending PS</th>\n",
              "      <th>sqrt spending CC</th>\n",
              "      <th>sqrt spending AX</th>\n",
              "      <th>sqrt spending last three months</th>\n",
              "      <th>sqrt spending last one month</th>\n",
              "      <th>sqrt spending last six months</th>\n",
              "      <th>sqrt spending SPLY</th>\n",
              "      <th>flag spending AM</th>\n",
              "      <th>flag spending PS</th>\n",
              "      <th>flag spending CC</th>\n",
              "      <th>flag spending AX</th>\n",
              "      <th>flag spending last three months</th>\n",
              "      <th>flag spending last one month</th>\n",
              "      <th>flag spending last six months</th>\n",
              "      <th>flag spending SPLY</th>\n",
              "      <th>ln days between purchases</th>\n",
              "      <th>ln # different product classes</th>\n",
              "      <th>sqrt # coupons used</th>\n",
              "      <th>ln # individual items purchased</th>\n",
              "      <th>ln stores</th>\n",
              "      <th>ln lifetime ave time betw visits</th>\n",
              "      <th>ln product uniformity</th>\n",
              "      <th>sqrt responded</th>\n",
              "      <th>flag returns</th>\n",
              "      <th>flag response rate</th>\n",
              "      <th>flag markdown</th>\n",
              "      <th>sqrt spending months 2 3</th>\n",
              "      <th>sqrt spending months 4 5 6</th>\n",
              "      <th>flag spending months 4 5 6</th>\n",
              "      <th>flag spending months 2 3</th>\n",
              "    </tr>\n",
              "  </thead>\n",
              "  <tbody>\n",
              "    <tr>\n",
              "      <th>0</th>\n",
              "      <td>9955600066402</td>\n",
              "      <td>1001</td>\n",
              "      <td>208</td>\n",
              "      <td>2</td>\n",
              "      <td>368.46</td>\n",
              "      <td>0</td>\n",
              "      <td>184.23</td>\n",
              "      <td>11</td>\n",
              "      <td>0.18</td>\n",
              "      <td>0.00</td>\n",
              "      <td>0.00</td>\n",
              "      <td>0.30</td>\n",
              "      <td>0.0</td>\n",
              "      <td>0.25</td>\n",
              "      <td>0.00</td>\n",
              "      <td>0.19</td>\n",
              "      <td>0.00</td>\n",
              "      <td>0.0</td>\n",
              "      <td>0.0</td>\n",
              "      <td>0.000000</td>\n",
              "      <td>0.02</td>\n",
              "      <td>0.03</td>\n",
              "      <td>0.29</td>\n",
              "      <td>0.0</td>\n",
              "      <td>0.0</td>\n",
              "      <td>368.46</td>\n",
              "      <td>0.0</td>\n",
              "      <td>0.00</td>\n",
              "      <td>0.00</td>\n",
              "      <td>0.00</td>\n",
              "      <td>0.00</td>\n",
              "      <td>0.60</td>\n",
              "      <td>17.0</td>\n",
              "      <td>666.0</td>\n",
              "      <td>333.00</td>\n",
              "      <td>0.08</td>\n",
              "      <td>9.0</td>\n",
              "      <td>1.0</td>\n",
              "      <td>11.0</td>\n",
              "      <td>1.0</td>\n",
              "      <td>...</td>\n",
              "      <td>0</td>\n",
              "      <td>1</td>\n",
              "      <td>0</td>\n",
              "      <td>0</td>\n",
              "      <td>0</td>\n",
              "      <td>0</td>\n",
              "      <td>1</td>\n",
              "      <td>1</td>\n",
              "      <td>1</td>\n",
              "      <td>0.0</td>\n",
              "      <td>0.0</td>\n",
              "      <td>19.195312</td>\n",
              "      <td>0.0</td>\n",
              "      <td>0.000000</td>\n",
              "      <td>0.000000</td>\n",
              "      <td>0.000000</td>\n",
              "      <td>0.000000</td>\n",
              "      <td>0</td>\n",
              "      <td>0</td>\n",
              "      <td>0</td>\n",
              "      <td>0</td>\n",
              "      <td>0</td>\n",
              "      <td>0</td>\n",
              "      <td>0</td>\n",
              "      <td>0</td>\n",
              "      <td>5.808142</td>\n",
              "      <td>2.197225</td>\n",
              "      <td>1.000000</td>\n",
              "      <td>2.397895</td>\n",
              "      <td>0.0</td>\n",
              "      <td>4.709530</td>\n",
              "      <td>3.459781</td>\n",
              "      <td>0.000000</td>\n",
              "      <td>0</td>\n",
              "      <td>0</td>\n",
              "      <td>1</td>\n",
              "      <td>0.000000</td>\n",
              "      <td>0.000000</td>\n",
              "      <td>0</td>\n",
              "      <td>0</td>\n",
              "    </tr>\n",
              "    <tr>\n",
              "      <th>1</th>\n",
              "      <td>9955600073501</td>\n",
              "      <td>1028</td>\n",
              "      <td>6</td>\n",
              "      <td>4</td>\n",
              "      <td>258.00</td>\n",
              "      <td>1</td>\n",
              "      <td>64.50</td>\n",
              "      <td>11</td>\n",
              "      <td>0.26</td>\n",
              "      <td>0.16</td>\n",
              "      <td>0.00</td>\n",
              "      <td>0.00</td>\n",
              "      <td>0.0</td>\n",
              "      <td>0.18</td>\n",
              "      <td>0.14</td>\n",
              "      <td>0.00</td>\n",
              "      <td>0.18</td>\n",
              "      <td>0.0</td>\n",
              "      <td>0.0</td>\n",
              "      <td>0.000000</td>\n",
              "      <td>0.00</td>\n",
              "      <td>0.02</td>\n",
              "      <td>0.37</td>\n",
              "      <td>0.0</td>\n",
              "      <td>0.0</td>\n",
              "      <td>258.00</td>\n",
              "      <td>0.0</td>\n",
              "      <td>138.00</td>\n",
              "      <td>55.99</td>\n",
              "      <td>258.00</td>\n",
              "      <td>0.00</td>\n",
              "      <td>0.54</td>\n",
              "      <td>14.0</td>\n",
              "      <td>696.0</td>\n",
              "      <td>174.00</td>\n",
              "      <td>0.33</td>\n",
              "      <td>6.0</td>\n",
              "      <td>0.0</td>\n",
              "      <td>14.0</td>\n",
              "      <td>1.0</td>\n",
              "      <td>...</td>\n",
              "      <td>1</td>\n",
              "      <td>0</td>\n",
              "      <td>1</td>\n",
              "      <td>0</td>\n",
              "      <td>0</td>\n",
              "      <td>0</td>\n",
              "      <td>0</td>\n",
              "      <td>1</td>\n",
              "      <td>1</td>\n",
              "      <td>0.0</td>\n",
              "      <td>0.0</td>\n",
              "      <td>16.062378</td>\n",
              "      <td>0.0</td>\n",
              "      <td>11.747340</td>\n",
              "      <td>7.482647</td>\n",
              "      <td>16.062378</td>\n",
              "      <td>0.000000</td>\n",
              "      <td>0</td>\n",
              "      <td>0</td>\n",
              "      <td>0</td>\n",
              "      <td>0</td>\n",
              "      <td>1</td>\n",
              "      <td>1</td>\n",
              "      <td>1</td>\n",
              "      <td>0</td>\n",
              "      <td>5.159055</td>\n",
              "      <td>1.791759</td>\n",
              "      <td>0.000000</td>\n",
              "      <td>2.639057</td>\n",
              "      <td>0.0</td>\n",
              "      <td>3.772761</td>\n",
              "      <td>3.487987</td>\n",
              "      <td>1.414214</td>\n",
              "      <td>1</td>\n",
              "      <td>1</td>\n",
              "      <td>1</td>\n",
              "      <td>9.055937</td>\n",
              "      <td>10.954451</td>\n",
              "      <td>1</td>\n",
              "      <td>1</td>\n",
              "    </tr>\n",
              "    <tr>\n",
              "      <th>2</th>\n",
              "      <td>9955600076313</td>\n",
              "      <td>1056</td>\n",
              "      <td>327</td>\n",
              "      <td>2</td>\n",
              "      <td>77.00</td>\n",
              "      <td>0</td>\n",
              "      <td>38.50</td>\n",
              "      <td>11</td>\n",
              "      <td>1.00</td>\n",
              "      <td>0.00</td>\n",
              "      <td>0.00</td>\n",
              "      <td>0.00</td>\n",
              "      <td>0.0</td>\n",
              "      <td>0.00</td>\n",
              "      <td>0.00</td>\n",
              "      <td>0.00</td>\n",
              "      <td>0.00</td>\n",
              "      <td>0.0</td>\n",
              "      <td>0.0</td>\n",
              "      <td>0.000000</td>\n",
              "      <td>0.00</td>\n",
              "      <td>0.00</td>\n",
              "      <td>0.00</td>\n",
              "      <td>0.0</td>\n",
              "      <td>0.0</td>\n",
              "      <td>77.00</td>\n",
              "      <td>0.0</td>\n",
              "      <td>0.00</td>\n",
              "      <td>0.00</td>\n",
              "      <td>0.00</td>\n",
              "      <td>39.00</td>\n",
              "      <td>0.62</td>\n",
              "      <td>10.0</td>\n",
              "      <td>343.0</td>\n",
              "      <td>171.50</td>\n",
              "      <td>0.11</td>\n",
              "      <td>1.0</td>\n",
              "      <td>0.0</td>\n",
              "      <td>2.0</td>\n",
              "      <td>1.0</td>\n",
              "      <td>...</td>\n",
              "      <td>0</td>\n",
              "      <td>0</td>\n",
              "      <td>0</td>\n",
              "      <td>0</td>\n",
              "      <td>0</td>\n",
              "      <td>0</td>\n",
              "      <td>0</td>\n",
              "      <td>0</td>\n",
              "      <td>0</td>\n",
              "      <td>0.0</td>\n",
              "      <td>0.0</td>\n",
              "      <td>8.774964</td>\n",
              "      <td>0.0</td>\n",
              "      <td>0.000000</td>\n",
              "      <td>0.000000</td>\n",
              "      <td>0.000000</td>\n",
              "      <td>6.244998</td>\n",
              "      <td>0</td>\n",
              "      <td>0</td>\n",
              "      <td>0</td>\n",
              "      <td>0</td>\n",
              "      <td>0</td>\n",
              "      <td>0</td>\n",
              "      <td>0</td>\n",
              "      <td>1</td>\n",
              "      <td>5.144583</td>\n",
              "      <td>0.000000</td>\n",
              "      <td>0.000000</td>\n",
              "      <td>0.693147</td>\n",
              "      <td>0.0</td>\n",
              "      <td>4.228293</td>\n",
              "      <td>4.605170</td>\n",
              "      <td>0.000000</td>\n",
              "      <td>0</td>\n",
              "      <td>0</td>\n",
              "      <td>1</td>\n",
              "      <td>0.000000</td>\n",
              "      <td>0.000000</td>\n",
              "      <td>0</td>\n",
              "      <td>0</td>\n",
              "    </tr>\n",
              "    <tr>\n",
              "      <th>3</th>\n",
              "      <td>9955600078045</td>\n",
              "      <td>1118</td>\n",
              "      <td>66</td>\n",
              "      <td>8</td>\n",
              "      <td>846.06</td>\n",
              "      <td>1</td>\n",
              "      <td>105.75</td>\n",
              "      <td>11</td>\n",
              "      <td>0.38</td>\n",
              "      <td>0.00</td>\n",
              "      <td>0.05</td>\n",
              "      <td>0.06</td>\n",
              "      <td>0.2</td>\n",
              "      <td>0.17</td>\n",
              "      <td>0.00</td>\n",
              "      <td>0.05</td>\n",
              "      <td>0.00</td>\n",
              "      <td>0.0</td>\n",
              "      <td>0.0</td>\n",
              "      <td>0.005307</td>\n",
              "      <td>0.03</td>\n",
              "      <td>0.01</td>\n",
              "      <td>0.00</td>\n",
              "      <td>0.0</td>\n",
              "      <td>0.0</td>\n",
              "      <td>846.06</td>\n",
              "      <td>0.0</td>\n",
              "      <td>104.94</td>\n",
              "      <td>0.00</td>\n",
              "      <td>373.87</td>\n",
              "      <td>166.25</td>\n",
              "      <td>0.43</td>\n",
              "      <td>24.0</td>\n",
              "      <td>701.0</td>\n",
              "      <td>87.62</td>\n",
              "      <td>0.29</td>\n",
              "      <td>15.0</td>\n",
              "      <td>3.0</td>\n",
              "      <td>35.0</td>\n",
              "      <td>1.0</td>\n",
              "      <td>...</td>\n",
              "      <td>0</td>\n",
              "      <td>1</td>\n",
              "      <td>0</td>\n",
              "      <td>0</td>\n",
              "      <td>0</td>\n",
              "      <td>1</td>\n",
              "      <td>1</td>\n",
              "      <td>1</td>\n",
              "      <td>0</td>\n",
              "      <td>0.0</td>\n",
              "      <td>0.0</td>\n",
              "      <td>29.087111</td>\n",
              "      <td>0.0</td>\n",
              "      <td>10.244023</td>\n",
              "      <td>0.000000</td>\n",
              "      <td>19.335718</td>\n",
              "      <td>12.893797</td>\n",
              "      <td>0</td>\n",
              "      <td>0</td>\n",
              "      <td>0</td>\n",
              "      <td>0</td>\n",
              "      <td>1</td>\n",
              "      <td>0</td>\n",
              "      <td>1</td>\n",
              "      <td>1</td>\n",
              "      <td>4.473009</td>\n",
              "      <td>2.708050</td>\n",
              "      <td>1.732051</td>\n",
              "      <td>3.555348</td>\n",
              "      <td>0.0</td>\n",
              "      <td>3.294354</td>\n",
              "      <td>3.147165</td>\n",
              "      <td>2.449490</td>\n",
              "      <td>0</td>\n",
              "      <td>1</td>\n",
              "      <td>1</td>\n",
              "      <td>10.244023</td>\n",
              "      <td>16.399085</td>\n",
              "      <td>1</td>\n",
              "      <td>1</td>\n",
              "    </tr>\n",
              "    <tr>\n",
              "      <th>4</th>\n",
              "      <td>9955600078517</td>\n",
              "      <td>1107</td>\n",
              "      <td>49</td>\n",
              "      <td>1</td>\n",
              "      <td>87.44</td>\n",
              "      <td>0</td>\n",
              "      <td>87.44</td>\n",
              "      <td>11</td>\n",
              "      <td>0.20</td>\n",
              "      <td>0.20</td>\n",
              "      <td>0.00</td>\n",
              "      <td>0.00</td>\n",
              "      <td>0.0</td>\n",
              "      <td>0.00</td>\n",
              "      <td>0.41</td>\n",
              "      <td>0.00</td>\n",
              "      <td>0.00</td>\n",
              "      <td>0.0</td>\n",
              "      <td>0.0</td>\n",
              "      <td>0.170000</td>\n",
              "      <td>0.00</td>\n",
              "      <td>0.00</td>\n",
              "      <td>0.00</td>\n",
              "      <td>0.0</td>\n",
              "      <td>0.0</td>\n",
              "      <td>87.44</td>\n",
              "      <td>0.0</td>\n",
              "      <td>87.44</td>\n",
              "      <td>0.00</td>\n",
              "      <td>87.44</td>\n",
              "      <td>0.00</td>\n",
              "      <td>0.22</td>\n",
              "      <td>0.0</td>\n",
              "      <td>49.0</td>\n",
              "      <td>49.00</td>\n",
              "      <td>0.42</td>\n",
              "      <td>4.0</td>\n",
              "      <td>0.0</td>\n",
              "      <td>8.0</td>\n",
              "      <td>1.0</td>\n",
              "      <td>...</td>\n",
              "      <td>1</td>\n",
              "      <td>0</td>\n",
              "      <td>0</td>\n",
              "      <td>0</td>\n",
              "      <td>0</td>\n",
              "      <td>1</td>\n",
              "      <td>0</td>\n",
              "      <td>0</td>\n",
              "      <td>0</td>\n",
              "      <td>0.0</td>\n",
              "      <td>0.0</td>\n",
              "      <td>9.350936</td>\n",
              "      <td>0.0</td>\n",
              "      <td>9.350936</td>\n",
              "      <td>0.000000</td>\n",
              "      <td>9.350936</td>\n",
              "      <td>0.000000</td>\n",
              "      <td>0</td>\n",
              "      <td>0</td>\n",
              "      <td>0</td>\n",
              "      <td>0</td>\n",
              "      <td>1</td>\n",
              "      <td>0</td>\n",
              "      <td>1</td>\n",
              "      <td>0</td>\n",
              "      <td>3.891820</td>\n",
              "      <td>1.386294</td>\n",
              "      <td>0.000000</td>\n",
              "      <td>2.079442</td>\n",
              "      <td>0.0</td>\n",
              "      <td>3.198673</td>\n",
              "      <td>3.350606</td>\n",
              "      <td>0.000000</td>\n",
              "      <td>0</td>\n",
              "      <td>0</td>\n",
              "      <td>1</td>\n",
              "      <td>9.350936</td>\n",
              "      <td>0.000000</td>\n",
              "      <td>0</td>\n",
              "      <td>1</td>\n",
              "    </tr>\n",
              "  </tbody>\n",
              "</table>\n",
              "<p>5 rows × 118 columns</p>\n",
              "</div>"
            ],
            "text/plain": [
              "           HHKEY  ...  flag spending months 2 3\n",
              "0  9955600066402  ...                         0\n",
              "1  9955600073501  ...                         1\n",
              "2  9955600076313  ...                         0\n",
              "3  9955600078045  ...                         1\n",
              "4  9955600078517  ...                         1\n",
              "\n",
              "[5 rows x 118 columns]"
            ]
          },
          "metadata": {
            "tags": []
          },
          "execution_count": 31
        }
      ]
    },
    {
      "cell_type": "code",
      "metadata": {
        "colab": {
          "base_uri": "https://localhost:8080/"
        },
        "id": "ef3lKCFswlLM",
        "outputId": "29170a2f-2bcd-4ed6-a854-f6afe49a4860"
      },
      "source": [
        "print(df.shape)\n",
        "print(X.shape)\n",
        "#XnotNorm = np.array(X.copy())\n",
        "XnotNorm = X.copy()\n",
        "print('XnotNorm ', XnotNorm.shape)\n",
        "\n",
        "ynotNorm = y.copy()\n",
        "print('ynotNorm ', ynotNorm.shape)"
      ],
      "execution_count": 32,
      "outputs": [
        {
          "output_type": "stream",
          "text": [
            "(2619, 119)\n",
            "(2619, 118)\n",
            "XnotNorm  (2619, 118)\n",
            "ynotNorm  (2619,)\n"
          ],
          "name": "stdout"
        }
      ]
    },
    {
      "cell_type": "code",
      "metadata": {
        "colab": {
          "base_uri": "https://localhost:8080/"
        },
        "id": "F_aA-TI9wlLN",
        "outputId": "52797a3a-e3c5-4512-9e56-0ada2e5c2f1d"
      },
      "source": [
        "# Normalize X\n",
        "\n",
        "x = XnotNorm.values #returns a numpy array\n",
        "scaler = preprocessing.StandardScaler()\n",
        "x_scaled = scaler.fit_transform(x)\n",
        "XNorm = pd.DataFrame(x_scaled, columns=XnotNorm.columns)\n",
        "#print(XNorm)\n",
        "#print(y)\n",
        "print('X normalized')"
      ],
      "execution_count": 33,
      "outputs": [
        {
          "output_type": "stream",
          "text": [
            "X normalized\n"
          ],
          "name": "stdout"
        }
      ]
    },
    {
      "cell_type": "code",
      "metadata": {
        "colab": {
          "base_uri": "https://localhost:8080/"
        },
        "id": "m64r4RyYwlLN",
        "outputId": "78c25dcf-402d-4d0a-b075-d2c5e3a0677d"
      },
      "source": [
        "# Optimize hyper params for one model\n",
        "scoring = 'accuracy' \n",
        "\n",
        "model = RandomForestClassifier()\n",
        "\n",
        "param_grid = [{},]\n",
        "\n",
        "grid_search = GridSearchCV(model, param_grid, cv=5, scoring=scoring)\n",
        "grid_search.fit(XNorm, y)\n",
        "\n",
        "print(grid_search.best_estimator_)\n",
        "\n",
        "model = RandomForestClassifier(bootstrap=True, ccp_alpha=0.0, class_weight=None,\n",
        "                       criterion='gini', max_depth=None, max_features='auto',\n",
        "                       max_leaf_nodes=None, max_samples=None,\n",
        "                       min_impurity_decrease=0.0, min_impurity_split=None,\n",
        "                       min_samples_leaf=1, min_samples_split=2,\n",
        "                       min_weight_fraction_leaf=0.0, n_estimators=100,\n",
        "                       n_jobs=1, oob_score=False, random_state=None,\n",
        "                       verbose=0, warm_start=False)"
      ],
      "execution_count": 34,
      "outputs": [
        {
          "output_type": "stream",
          "text": [
            "RandomForestClassifier(bootstrap=True, ccp_alpha=0.0, class_weight=None,\n",
            "                       criterion='gini', max_depth=None, max_features='auto',\n",
            "                       max_leaf_nodes=None, max_samples=None,\n",
            "                       min_impurity_decrease=0.0, min_impurity_split=None,\n",
            "                       min_samples_leaf=1, min_samples_split=2,\n",
            "                       min_weight_fraction_leaf=0.0, n_estimators=100,\n",
            "                       n_jobs=None, oob_score=False, random_state=None,\n",
            "                       verbose=0, warm_start=False)\n"
          ],
          "name": "stdout"
        }
      ]
    },
    {
      "cell_type": "code",
      "metadata": {
        "colab": {
          "base_uri": "https://localhost:8080/",
          "height": 1000
        },
        "id": "qvZyPDPWwlLN",
        "outputId": "e04405cd-c295-46b5-fabb-306f11846842"
      },
      "source": [
        "# FEATURE IMPORTANCE - NORMALIZED - last model\n",
        "\n",
        "trainFinalFI = XNorm\n",
        "yFinalFI = y\n",
        "\n",
        "model.fit(trainFinalFI,yFinalFI)\n",
        "\n",
        "FI_model = pd.DataFrame({\"Feature Importance\":model.feature_importances_,}, index=trainFinalFI.columns)\n",
        "FI_model[FI_model[\"Feature Importance\"] > 0.005].sort_values(\"Feature Importance\").plot(kind=\"barh\",figsize=(15,25))\n",
        "plt.xticks(rotation=90)\n",
        "plt.xticks(rotation=90)\n",
        "plt.show()"
      ],
      "execution_count": 35,
      "outputs": [
        {
          "output_type": "display_data",
          "data": {
            "image/png": "[encoded data removed]",
            "text/plain": [
              "<Figure size 1080x1800 with 1 Axes>"
            ]
          },
          "metadata": {
            "tags": [],
            "needs_background": "light"
          }
        }
      ]
    },
    {
      "cell_type": "code",
      "metadata": {
        "colab": {
          "base_uri": "https://localhost:8080/"
        },
        "id": "NhE7H_BiwlLO",
        "outputId": "a9c3af7c-70b2-4bf6-d4a3-50c16b95df84"
      },
      "source": [
        "# List of important features for model\n",
        "FI_model = pd.DataFrame({\"Feature Importance\":model.feature_importances_,}, index=trainFinalFI.columns)\n",
        "FI_model=FI_model.sort_values('Feature Importance', ascending = False)\n",
        "print(FI_model[FI_model[\"Feature Importance\"] > 0.006])"
      ],
      "execution_count": 36,
      "outputs": [
        {
          "output_type": "stream",
          "text": [
            "                                  Feature Importance\n",
            "sqrt responded                              0.212687\n",
            "RESPONSERATE                                0.176328\n",
            "flag response rate                          0.077492\n",
            "MAILED                                      0.035393\n",
            "PROMOS                                      0.029878\n",
            "bc purchase visits                          0.020298\n",
            "FRE                                         0.017463\n",
            "STYLES                                      0.017396\n",
            "MON                                         0.015516\n",
            "ln # different product classes              0.014985\n",
            "DAYS                                        0.014626\n",
            "ln # individual items purchased             0.013636\n",
            "LTFREDAY                                    0.011598\n",
            "Tot_Spend                                   0.011416\n",
            "ln total net sales                          0.011064\n",
            "ln lifetime ave time betw visits            0.011048\n",
            "CLASSES                                     0.009863\n",
            "ln days between purchases                   0.008652\n",
            "Spending_Month_4_5_6                        0.008086\n",
            "sqrt # coupons used                         0.007716\n",
            "FREDAYS                                     0.007685\n",
            "COUPONS                                     0.007387\n",
            "CCSPEND                                     0.006994\n",
            "ln product uniformity                       0.006778\n",
            "sqrt spending last six months               0.006660\n",
            "HI                                          0.006588\n",
            "SMONSPEND                                   0.006581\n",
            "sqrt spending CC                            0.006463\n",
            "REC                                         0.006066\n",
            "sqrt spending SPLY                          0.006035\n"
          ],
          "name": "stdout"
        }
      ]
    },
    {
      "cell_type": "code",
      "metadata": {
        "id": "kFVvcjRfwlLO"
      },
      "source": [
        "imp_features = FI_model[FI_model[\"Feature Importance\"] > 0.006]"
      ],
      "execution_count": 37,
      "outputs": []
    },
    {
      "cell_type": "code",
      "metadata": {
        "colab": {
          "base_uri": "https://localhost:8080/"
        },
        "id": "4oMtvaAzwlLO",
        "outputId": "6397362d-47de-4ec8-8e52-aaaf2a88a5a1"
      },
      "source": [
        "imp_features.index"
      ],
      "execution_count": 38,
      "outputs": [
        {
          "output_type": "execute_result",
          "data": {
            "text/plain": [
              "Index(['sqrt responded', 'RESPONSERATE', 'flag response rate', 'MAILED',\n",
              "       'PROMOS', 'bc purchase visits', 'FRE', 'STYLES', 'MON',\n",
              "       'ln # different product classes', 'DAYS',\n",
              "       'ln # individual items purchased', 'LTFREDAY', 'Tot_Spend',\n",
              "       'ln total net sales', 'ln lifetime ave time betw visits', 'CLASSES',\n",
              "       'ln days between purchases', 'Spending_Month_4_5_6',\n",
              "       'sqrt # coupons used', 'FREDAYS', 'COUPONS', 'CCSPEND',\n",
              "       'ln product uniformity', 'sqrt spending last six months', 'HI',\n",
              "       'SMONSPEND', 'sqrt spending CC', 'REC', 'sqrt spending SPLY'],\n",
              "      dtype='object')"
            ]
          },
          "metadata": {
            "tags": []
          },
          "execution_count": 38
        }
      ]
    },
    {
      "cell_type": "markdown",
      "metadata": {
        "id": "cVJFvvVSwlLP"
      },
      "source": [
        "# FINALIZED FEATURES"
      ]
    },
    {
      "cell_type": "code",
      "metadata": {
        "id": "cKAE8mZKwlLP"
      },
      "source": [
        "df2 = df[['sqrt responded', 'RESPONSERATE', 'flag response rate', 'PROMOS',\n",
        "       'MAILED', 'DAYS', 'bc purchase visits', 'ln total net sales', 'MON',\n",
        "       'ln # individual items purchased', 'STYLES', 'Tot_Spend', 'FRE',\n",
        "       'LTFREDAY', 'ln lifetime ave time betw visits', 'CLASSES', 'REC',\n",
        "       'ln # different product classes', 'ln product uniformity', 'FREDAYS',\n",
        "       'sqrt spending last six months', 'SMONSPEND', 'HI',\n",
        "       'Spending_Month_4_5_6', 'ln days between purchases',\n",
        "       'sqrt spending months 4 5 6', 'TMONSPEND', 'sqrt # coupons used',\n",
        "       'CCSPEND', 'sqrt spending SPLY', 'Sales per Visit','RESPONDED']]"
      ],
      "execution_count": 39,
      "outputs": []
    },
    {
      "cell_type": "code",
      "metadata": {
        "colab": {
          "base_uri": "https://localhost:8080/"
        },
        "id": "oS9SCykgwlLP",
        "outputId": "585dee05-ebad-47de-a5f4-1bc57e2d61c9"
      },
      "source": [
        "df2.shape"
      ],
      "execution_count": 40,
      "outputs": [
        {
          "output_type": "execute_result",
          "data": {
            "text/plain": [
              "(2619, 32)"
            ]
          },
          "metadata": {
            "tags": []
          },
          "execution_count": 40
        }
      ]
    },
    {
      "cell_type": "code",
      "metadata": {
        "colab": {
          "base_uri": "https://localhost:8080/",
          "height": 290
        },
        "id": "pDT_Xd6XwlLP",
        "outputId": "146c296c-3012-4e14-8fb6-8941055f1421"
      },
      "source": [
        "df2.head()"
      ],
      "execution_count": 41,
      "outputs": [
        {
          "output_type": "execute_result",
          "data": {
            "text/html": [
              "<div>\n",
              "<style scoped>\n",
              "    .dataframe tbody tr th:only-of-type {\n",
              "        vertical-align: middle;\n",
              "    }\n",
              "\n",
              "    .dataframe tbody tr th {\n",
              "        vertical-align: top;\n",
              "    }\n",
              "\n",
              "    .dataframe thead th {\n",
              "        text-align: right;\n",
              "    }\n",
              "</style>\n",
              "<table border=\"1\" class=\"dataframe\">\n",
              "  <thead>\n",
              "    <tr style=\"text-align: right;\">\n",
              "      <th></th>\n",
              "      <th>sqrt responded</th>\n",
              "      <th>RESPONSERATE</th>\n",
              "      <th>flag response rate</th>\n",
              "      <th>PROMOS</th>\n",
              "      <th>MAILED</th>\n",
              "      <th>DAYS</th>\n",
              "      <th>bc purchase visits</th>\n",
              "      <th>ln total net sales</th>\n",
              "      <th>MON</th>\n",
              "      <th>ln # individual items purchased</th>\n",
              "      <th>STYLES</th>\n",
              "      <th>Tot_Spend</th>\n",
              "      <th>FRE</th>\n",
              "      <th>LTFREDAY</th>\n",
              "      <th>ln lifetime ave time betw visits</th>\n",
              "      <th>CLASSES</th>\n",
              "      <th>REC</th>\n",
              "      <th>ln # different product classes</th>\n",
              "      <th>ln product uniformity</th>\n",
              "      <th>FREDAYS</th>\n",
              "      <th>sqrt spending last six months</th>\n",
              "      <th>SMONSPEND</th>\n",
              "      <th>HI</th>\n",
              "      <th>Spending_Month_4_5_6</th>\n",
              "      <th>ln days between purchases</th>\n",
              "      <th>sqrt spending months 4 5 6</th>\n",
              "      <th>TMONSPEND</th>\n",
              "      <th>sqrt # coupons used</th>\n",
              "      <th>CCSPEND</th>\n",
              "      <th>sqrt spending SPLY</th>\n",
              "      <th>Sales per Visit</th>\n",
              "      <th>RESPONDED</th>\n",
              "    </tr>\n",
              "  </thead>\n",
              "  <tbody>\n",
              "    <tr>\n",
              "      <th>0</th>\n",
              "      <td>0.000000</td>\n",
              "      <td>0.00</td>\n",
              "      <td>0</td>\n",
              "      <td>17.0</td>\n",
              "      <td>5.0</td>\n",
              "      <td>666.0</td>\n",
              "      <td>0.430964</td>\n",
              "      <td>5.909332</td>\n",
              "      <td>368.46</td>\n",
              "      <td>2.397895</td>\n",
              "      <td>11.0</td>\n",
              "      <td>368.46</td>\n",
              "      <td>2</td>\n",
              "      <td>111.00</td>\n",
              "      <td>4.709530</td>\n",
              "      <td>9.0</td>\n",
              "      <td>208</td>\n",
              "      <td>2.197225</td>\n",
              "      <td>3.459781</td>\n",
              "      <td>333.00</td>\n",
              "      <td>0.000000</td>\n",
              "      <td>0.00</td>\n",
              "      <td>31.81</td>\n",
              "      <td>0.00</td>\n",
              "      <td>5.808142</td>\n",
              "      <td>0.000000</td>\n",
              "      <td>0.00</td>\n",
              "      <td>1.000000</td>\n",
              "      <td>368.46</td>\n",
              "      <td>0.000000</td>\n",
              "      <td>184.2300</td>\n",
              "      <td>0.0</td>\n",
              "    </tr>\n",
              "    <tr>\n",
              "      <th>1</th>\n",
              "      <td>1.414214</td>\n",
              "      <td>50.00</td>\n",
              "      <td>1</td>\n",
              "      <td>14.0</td>\n",
              "      <td>4.0</td>\n",
              "      <td>696.0</td>\n",
              "      <td>0.583333</td>\n",
              "      <td>5.552960</td>\n",
              "      <td>258.00</td>\n",
              "      <td>2.639057</td>\n",
              "      <td>14.0</td>\n",
              "      <td>258.00</td>\n",
              "      <td>4</td>\n",
              "      <td>43.50</td>\n",
              "      <td>3.772761</td>\n",
              "      <td>6.0</td>\n",
              "      <td>6</td>\n",
              "      <td>1.791759</td>\n",
              "      <td>3.487987</td>\n",
              "      <td>174.00</td>\n",
              "      <td>16.062378</td>\n",
              "      <td>258.00</td>\n",
              "      <td>32.72</td>\n",
              "      <td>120.00</td>\n",
              "      <td>5.159055</td>\n",
              "      <td>10.954451</td>\n",
              "      <td>138.00</td>\n",
              "      <td>0.000000</td>\n",
              "      <td>258.00</td>\n",
              "      <td>0.000000</td>\n",
              "      <td>64.5000</td>\n",
              "      <td>2.0</td>\n",
              "    </tr>\n",
              "    <tr>\n",
              "      <th>2</th>\n",
              "      <td>0.000000</td>\n",
              "      <td>0.00</td>\n",
              "      <td>0</td>\n",
              "      <td>10.0</td>\n",
              "      <td>4.0</td>\n",
              "      <td>343.0</td>\n",
              "      <td>0.430964</td>\n",
              "      <td>4.343805</td>\n",
              "      <td>77.00</td>\n",
              "      <td>0.693147</td>\n",
              "      <td>2.0</td>\n",
              "      <td>77.00</td>\n",
              "      <td>2</td>\n",
              "      <td>68.60</td>\n",
              "      <td>4.228293</td>\n",
              "      <td>1.0</td>\n",
              "      <td>327</td>\n",
              "      <td>0.000000</td>\n",
              "      <td>4.605170</td>\n",
              "      <td>171.50</td>\n",
              "      <td>0.000000</td>\n",
              "      <td>0.00</td>\n",
              "      <td>100.00</td>\n",
              "      <td>0.00</td>\n",
              "      <td>5.144583</td>\n",
              "      <td>0.000000</td>\n",
              "      <td>0.00</td>\n",
              "      <td>0.000000</td>\n",
              "      <td>77.00</td>\n",
              "      <td>6.244998</td>\n",
              "      <td>38.5000</td>\n",
              "      <td>0.0</td>\n",
              "    </tr>\n",
              "    <tr>\n",
              "      <th>3</th>\n",
              "      <td>2.449490</td>\n",
              "      <td>66.67</td>\n",
              "      <td>1</td>\n",
              "      <td>24.0</td>\n",
              "      <td>9.0</td>\n",
              "      <td>701.0</td>\n",
              "      <td>0.637204</td>\n",
              "      <td>6.740590</td>\n",
              "      <td>846.06</td>\n",
              "      <td>3.555348</td>\n",
              "      <td>35.0</td>\n",
              "      <td>846.06</td>\n",
              "      <td>8</td>\n",
              "      <td>26.96</td>\n",
              "      <td>3.294354</td>\n",
              "      <td>15.0</td>\n",
              "      <td>66</td>\n",
              "      <td>2.708050</td>\n",
              "      <td>3.147165</td>\n",
              "      <td>87.62</td>\n",
              "      <td>19.335718</td>\n",
              "      <td>373.87</td>\n",
              "      <td>23.27</td>\n",
              "      <td>268.93</td>\n",
              "      <td>4.473009</td>\n",
              "      <td>16.399085</td>\n",
              "      <td>104.94</td>\n",
              "      <td>1.732051</td>\n",
              "      <td>846.06</td>\n",
              "      <td>12.893797</td>\n",
              "      <td>105.7575</td>\n",
              "      <td>6.0</td>\n",
              "    </tr>\n",
              "    <tr>\n",
              "      <th>4</th>\n",
              "      <td>0.000000</td>\n",
              "      <td>0.00</td>\n",
              "      <td>0</td>\n",
              "      <td>0.0</td>\n",
              "      <td>0.0</td>\n",
              "      <td>49.0</td>\n",
              "      <td>0.000000</td>\n",
              "      <td>4.470953</td>\n",
              "      <td>87.44</td>\n",
              "      <td>2.079442</td>\n",
              "      <td>8.0</td>\n",
              "      <td>87.44</td>\n",
              "      <td>1</td>\n",
              "      <td>24.50</td>\n",
              "      <td>3.198673</td>\n",
              "      <td>4.0</td>\n",
              "      <td>49</td>\n",
              "      <td>1.386294</td>\n",
              "      <td>3.350606</td>\n",
              "      <td>49.00</td>\n",
              "      <td>9.350936</td>\n",
              "      <td>87.44</td>\n",
              "      <td>28.52</td>\n",
              "      <td>0.00</td>\n",
              "      <td>3.891820</td>\n",
              "      <td>0.000000</td>\n",
              "      <td>87.44</td>\n",
              "      <td>0.000000</td>\n",
              "      <td>87.44</td>\n",
              "      <td>0.000000</td>\n",
              "      <td>87.4400</td>\n",
              "      <td>0.0</td>\n",
              "    </tr>\n",
              "  </tbody>\n",
              "</table>\n",
              "</div>"
            ],
            "text/plain": [
              "   sqrt responded  RESPONSERATE  ...  Sales per Visit  RESPONDED\n",
              "0        0.000000          0.00  ...         184.2300        0.0\n",
              "1        1.414214         50.00  ...          64.5000        2.0\n",
              "2        0.000000          0.00  ...          38.5000        0.0\n",
              "3        2.449490         66.67  ...         105.7575        6.0\n",
              "4        0.000000          0.00  ...          87.4400        0.0\n",
              "\n",
              "[5 rows x 32 columns]"
            ]
          },
          "metadata": {
            "tags": []
          },
          "execution_count": 41
        }
      ]
    },
    {
      "cell_type": "markdown",
      "metadata": {
        "id": "w61uPesFwlLQ"
      },
      "source": [
        "# MODEL BUILDING "
      ]
    },
    {
      "cell_type": "code",
      "metadata": {
        "id": "V44ekIVXwlLQ"
      },
      "source": [
        "y = df2['RESPONDED']\n",
        "X = df2.drop('RESPONDED', 1)"
      ],
      "execution_count": 42,
      "outputs": []
    },
    {
      "cell_type": "code",
      "metadata": {
        "id": "6vCMg6wXwlLQ"
      },
      "source": [
        "from sklearn.model_selection import train_test_split\n",
        "X_tr, X_test, y_tr, y_test = train_test_split(X, y, test_size=0.25, random_state=8675309)"
      ],
      "execution_count": 43,
      "outputs": []
    },
    {
      "cell_type": "code",
      "metadata": {
        "id": "H5q_4pk-wlLQ"
      },
      "source": [
        "from sklearn.linear_model import LogisticRegression\n",
        "from sklearn.neighbors import KNeighborsClassifier\n",
        "from sklearn.svm import SVC\n",
        "from sklearn.ensemble import RandomForestClassifier\n",
        "from sklearn.naive_bayes import GaussianNB\n",
        "from xgboost import XGBClassifier\n",
        "from sklearn import model_selection\n",
        "from sklearn.utils import class_weight\n",
        "from sklearn.metrics import classification_report\n",
        "from sklearn.metrics import confusion_matrix\n",
        "import numpy as np\n",
        "import pandas as pd"
      ],
      "execution_count": 44,
      "outputs": []
    },
    {
      "cell_type": "markdown",
      "metadata": {
        "id": "AHZ8dbnewlLQ"
      },
      "source": [
        "## SUPPORT VECTOR MACHINES"
      ]
    },
    {
      "cell_type": "code",
      "metadata": {
        "colab": {
          "base_uri": "https://localhost:8080/"
        },
        "id": "k1aJ2wOewlLQ",
        "outputId": "747d709d-5d82-4c70-fe8a-5115a5a07f92"
      },
      "source": [
        "import sklearn as sk\n",
        "from sklearn import svm\n",
        "\n",
        "SVM = svm.LinearSVC()\n",
        "SVM.fit(X, y)\n",
        "SVM.predict(X.iloc[460:,:])\n",
        "svm_m = SVM.predict(X.iloc[460:,:])\n",
        "round(SVM.score(X,y), 4)"
      ],
      "execution_count": 45,
      "outputs": [
        {
          "output_type": "stream",
          "text": [
            "/usr/local/lib/python3.7/dist-packages/sklearn/svm/_base.py:947: ConvergenceWarning: Liblinear failed to converge, increase the number of iterations.\n",
            "  \"the number of iterations.\", ConvergenceWarning)\n"
          ],
          "name": "stderr"
        },
        {
          "output_type": "execute_result",
          "data": {
            "text/plain": [
              "0.6663"
            ]
          },
          "metadata": {
            "tags": []
          },
          "execution_count": 45
        }
      ]
    },
    {
      "cell_type": "markdown",
      "metadata": {
        "id": "IO2XRw9CwlLR"
      },
      "source": [
        "## RANDOM FOREST CLASSIFIER"
      ]
    },
    {
      "cell_type": "code",
      "metadata": {
        "colab": {
          "base_uri": "https://localhost:8080/"
        },
        "id": "g_dC_bvZwlLR",
        "outputId": "eb48b3c4-1216-403e-8f9e-f172e61a6297"
      },
      "source": [
        "import sklearn as sk\n",
        "from sklearn.ensemble import RandomForestClassifier\n",
        "\n",
        "RF = RandomForestClassifier(n_estimators=100, max_depth=2, random_state=0)\n",
        "RF.fit(X, y)\n",
        "RF.predict(X_test)\n",
        "rf_m = RF.predict(X_test)\n",
        "round(RF.score(X,y), 4)"
      ],
      "execution_count": 46,
      "outputs": [
        {
          "output_type": "execute_result",
          "data": {
            "text/plain": [
              "0.7549"
            ]
          },
          "metadata": {
            "tags": []
          },
          "execution_count": 46
        }
      ]
    },
    {
      "cell_type": "markdown",
      "metadata": {
        "id": "2K8tBvrywlLR"
      },
      "source": [
        "## LOGISTIC REGRESSOR"
      ]
    },
    {
      "cell_type": "code",
      "metadata": {
        "colab": {
          "base_uri": "https://localhost:8080/"
        },
        "id": "IudpNGXywlLR",
        "outputId": "679b84ff-7887-4366-e279-944176499e6c"
      },
      "source": [
        "LR = LogisticRegression(random_state=0, solver='lbfgs', multi_class='multinomial').fit(X_tr, y_tr)\n",
        "LR.predict(X_test)\n",
        "round(LR.score(X_test,y_test), 4)\n"
      ],
      "execution_count": 47,
      "outputs": [
        {
          "output_type": "stream",
          "text": [
            "/usr/local/lib/python3.7/dist-packages/sklearn/linear_model/_logistic.py:940: ConvergenceWarning: lbfgs failed to converge (status=1):\n",
            "STOP: TOTAL NO. of ITERATIONS REACHED LIMIT.\n",
            "\n",
            "Increase the number of iterations (max_iter) or scale the data as shown in:\n",
            "    https://scikit-learn.org/stable/modules/preprocessing.html\n",
            "Please also refer to the documentation for alternative solver options:\n",
            "    https://scikit-learn.org/stable/modules/linear_model.html#logistic-regression\n",
            "  extra_warning_msg=_LOGISTIC_SOLVER_CONVERGENCE_MSG)\n"
          ],
          "name": "stderr"
        },
        {
          "output_type": "execute_result",
          "data": {
            "text/plain": [
              "0.687"
            ]
          },
          "metadata": {
            "tags": []
          },
          "execution_count": 47
        }
      ]
    },
    {
      "cell_type": "markdown",
      "metadata": {
        "id": "QnbIUjS-wlLR"
      },
      "source": [
        "## NEURAL NETWORKS CLASSIFIER"
      ]
    },
    {
      "cell_type": "code",
      "metadata": {
        "colab": {
          "base_uri": "https://localhost:8080/"
        },
        "id": "ecXN7XS7wlLR",
        "outputId": "0de7ac6b-70be-472b-d7a6-375485367671"
      },
      "source": [
        "import sklearn as sk\n",
        "from sklearn.neural_network import MLPClassifier\n",
        "NN = MLPClassifier(solver='lbfgs', alpha=1e-5, hidden_layer_sizes=(150, 10), random_state=1).fit(X_tr, y_tr)\n",
        "NN.predict(X_test)\n",
        "nn_m = NN.predict(X_test)\n",
        "round(NN.score(X_test, y_test), 4)"
      ],
      "execution_count": 48,
      "outputs": [
        {
          "output_type": "execute_result",
          "data": {
            "text/plain": [
              "0.4733"
            ]
          },
          "metadata": {
            "tags": []
          },
          "execution_count": 48
        }
      ]
    },
    {
      "cell_type": "markdown",
      "metadata": {
        "id": "qaKcSdKgwlLR"
      },
      "source": [
        "## FINALIZED MODEL - RANDOM FOREST CLASSIFIER - 77% ACCURACY"
      ]
    },
    {
      "cell_type": "code",
      "metadata": {
        "colab": {
          "base_uri": "https://localhost:8080/"
        },
        "id": "1E7dJkpkwlLS",
        "outputId": "a6aee1a5-2192-46d9-ac1c-3c92554ea279"
      },
      "source": [
        "\n",
        "accuracy_score(y_test,rf_m)"
      ],
      "execution_count": 49,
      "outputs": [
        {
          "output_type": "execute_result",
          "data": {
            "text/plain": [
              "0.7786259541984732"
            ]
          },
          "metadata": {
            "tags": []
          },
          "execution_count": 49
        }
      ]
    },
    {
      "cell_type": "code",
      "metadata": {
        "colab": {
          "base_uri": "https://localhost:8080/"
        },
        "id": "pv0KJcQFwlLS",
        "outputId": "98d048c0-9586-46a5-a6c8-f93c484115b3"
      },
      "source": [
        "confusion_matrix(y_test,rf_m)"
      ],
      "execution_count": 50,
      "outputs": [
        {
          "output_type": "execute_result",
          "data": {
            "text/plain": [
              "array([[360,   0,   0,   0,   0,   0,   0,   0,   0,   0,   0],\n",
              "       [  0, 118,   0,   0,   0,   0,   0,   0,   0,   0,   0],\n",
              "       [  0,  51,  32,   0,   0,   0,   0,   0,   0,   0,   0],\n",
              "       [  0,   8,  23,   0,   0,   0,   0,   0,   0,   0,   0],\n",
              "       [  0,   2,  17,   0,   0,   0,   0,   0,   0,   0,   0],\n",
              "       [  0,   0,  14,   0,   0,   0,   0,   0,   0,   0,   0],\n",
              "       [  0,   1,  16,   0,   0,   0,   0,   0,   0,   0,   0],\n",
              "       [  0,   0,   4,   0,   0,   0,   0,   0,   0,   0,   0],\n",
              "       [  0,   0,   5,   0,   0,   0,   0,   0,   0,   0,   0],\n",
              "       [  0,   0,   1,   0,   0,   0,   0,   0,   0,   0,   0],\n",
              "       [  0,   0,   3,   0,   0,   0,   0,   0,   0,   0,   0]])"
            ]
          },
          "metadata": {
            "tags": []
          },
          "execution_count": 50
        }
      ]
    },
    {
      "cell_type": "code",
      "metadata": {
        "colab": {
          "base_uri": "https://localhost:8080/"
        },
        "id": "YHvXljXGwlLS",
        "outputId": "ef7c5f22-18fc-4cf7-bccb-8fe1506b35d4"
      },
      "source": [
        "print(classification_report(y_test, rf_m))"
      ],
      "execution_count": 51,
      "outputs": [
        {
          "output_type": "stream",
          "text": [
            "              precision    recall  f1-score   support\n",
            "\n",
            "         0.0       1.00      1.00      1.00       360\n",
            "         1.0       0.66      1.00      0.79       118\n",
            "         2.0       0.28      0.39      0.32        83\n",
            "         3.0       0.00      0.00      0.00        31\n",
            "         4.0       0.00      0.00      0.00        19\n",
            "         5.0       0.00      0.00      0.00        14\n",
            "         6.0       0.00      0.00      0.00        17\n",
            "         7.0       0.00      0.00      0.00         4\n",
            "         8.0       0.00      0.00      0.00         5\n",
            "         9.0       0.00      0.00      0.00         1\n",
            "        10.0       0.00      0.00      0.00         3\n",
            "\n",
            "    accuracy                           0.78       655\n",
            "   macro avg       0.18      0.22      0.19       655\n",
            "weighted avg       0.70      0.78      0.73       655\n",
            "\n"
          ],
          "name": "stdout"
        },
        {
          "output_type": "stream",
          "text": [
            "/usr/local/lib/python3.7/dist-packages/sklearn/metrics/_classification.py:1272: UndefinedMetricWarning: Precision and F-score are ill-defined and being set to 0.0 in labels with no predicted samples. Use `zero_division` parameter to control this behavior.\n",
            "  _warn_prf(average, modifier, msg_start, len(result))\n"
          ],
          "name": "stderr"
        }
      ]
    },
    {
      "cell_type": "code",
      "metadata": {
        "id": "6rQqlAi2wlLS"
      },
      "source": [
        "X = df2.drop(columns = ['RESPONDED'])\n",
        "Y = df2['RESPONDED'].values"
      ],
      "execution_count": 52,
      "outputs": []
    },
    {
      "cell_type": "code",
      "metadata": {
        "colab": {
          "base_uri": "https://localhost:8080/"
        },
        "id": "9g1G8coawlLS",
        "outputId": "55757021-cff4-4b79-90fd-2782c2b31f02"
      },
      "source": [
        "from sklearn.model_selection import train_test_split\n",
        "\n",
        "X_train, X_test, y_train, y_test = train_test_split(X, Y, test_size=0.33, random_state=42)\n",
        "RF.fit(X_train, y_train)"
      ],
      "execution_count": 53,
      "outputs": [
        {
          "output_type": "execute_result",
          "data": {
            "text/plain": [
              "RandomForestClassifier(bootstrap=True, ccp_alpha=0.0, class_weight=None,\n",
              "                       criterion='gini', max_depth=2, max_features='auto',\n",
              "                       max_leaf_nodes=None, max_samples=None,\n",
              "                       min_impurity_decrease=0.0, min_impurity_split=None,\n",
              "                       min_samples_leaf=1, min_samples_split=2,\n",
              "                       min_weight_fraction_leaf=0.0, n_estimators=100,\n",
              "                       n_jobs=None, oob_score=False, random_state=0, verbose=0,\n",
              "                       warm_start=False)"
            ]
          },
          "metadata": {
            "tags": []
          },
          "execution_count": 53
        }
      ]
    },
    {
      "cell_type": "code",
      "metadata": {
        "colab": {
          "base_uri": "https://localhost:8080/"
        },
        "id": "gxqoxxVqwlLS",
        "outputId": "dde40311-beb4-4802-a1e9-a716a55947fd"
      },
      "source": [
        "\n",
        "arr = RF.predict(X_test)\n",
        "RF.score(X_test, y_test)"
      ],
      "execution_count": 54,
      "outputs": [
        {
          "output_type": "execute_result",
          "data": {
            "text/plain": [
              "0.7710982658959538"
            ]
          },
          "metadata": {
            "tags": []
          },
          "execution_count": 54
        }
      ]
    },
    {
      "cell_type": "code",
      "metadata": {
        "colab": {
          "base_uri": "https://localhost:8080/"
        },
        "id": "hnpAUaprwlLT",
        "outputId": "3e578fba-7ae9-4df1-9131-a9fce1771271"
      },
      "source": [
        "y_test.shape"
      ],
      "execution_count": 55,
      "outputs": [
        {
          "output_type": "execute_result",
          "data": {
            "text/plain": [
              "(865,)"
            ]
          },
          "metadata": {
            "tags": []
          },
          "execution_count": 55
        }
      ]
    },
    {
      "cell_type": "markdown",
      "metadata": {
        "id": "wmix-NEcwlLT"
      },
      "source": [
        "## DATA SET FOR LIFT CHART"
      ]
    },
    {
      "cell_type": "code",
      "metadata": {
        "colab": {
          "base_uri": "https://localhost:8080/",
          "height": 417
        },
        "id": "OSfz2fIRwlLT",
        "outputId": "8e3441ed-0268-4539-d6a9-ec7f137bc2ab"
      },
      "source": [
        "data1 = {'Instance': [s for s in range(1, 866)], 'Actual Class': y_test, 'Predicted Class': arr}\n",
        "df_matrix = pd.DataFrame(data1)\n",
        "\n",
        "df_matrix"
      ],
      "execution_count": 56,
      "outputs": [
        {
          "output_type": "execute_result",
          "data": {
            "text/html": [
              "<div>\n",
              "<style scoped>\n",
              "    .dataframe tbody tr th:only-of-type {\n",
              "        vertical-align: middle;\n",
              "    }\n",
              "\n",
              "    .dataframe tbody tr th {\n",
              "        vertical-align: top;\n",
              "    }\n",
              "\n",
              "    .dataframe thead th {\n",
              "        text-align: right;\n",
              "    }\n",
              "</style>\n",
              "<table border=\"1\" class=\"dataframe\">\n",
              "  <thead>\n",
              "    <tr style=\"text-align: right;\">\n",
              "      <th></th>\n",
              "      <th>Instance</th>\n",
              "      <th>Actual Class</th>\n",
              "      <th>Predicted Class</th>\n",
              "    </tr>\n",
              "  </thead>\n",
              "  <tbody>\n",
              "    <tr>\n",
              "      <th>0</th>\n",
              "      <td>1</td>\n",
              "      <td>0.0</td>\n",
              "      <td>0.0</td>\n",
              "    </tr>\n",
              "    <tr>\n",
              "      <th>1</th>\n",
              "      <td>2</td>\n",
              "      <td>0.0</td>\n",
              "      <td>0.0</td>\n",
              "    </tr>\n",
              "    <tr>\n",
              "      <th>2</th>\n",
              "      <td>3</td>\n",
              "      <td>0.0</td>\n",
              "      <td>0.0</td>\n",
              "    </tr>\n",
              "    <tr>\n",
              "      <th>3</th>\n",
              "      <td>4</td>\n",
              "      <td>2.0</td>\n",
              "      <td>1.0</td>\n",
              "    </tr>\n",
              "    <tr>\n",
              "      <th>4</th>\n",
              "      <td>5</td>\n",
              "      <td>3.0</td>\n",
              "      <td>2.0</td>\n",
              "    </tr>\n",
              "    <tr>\n",
              "      <th>...</th>\n",
              "      <td>...</td>\n",
              "      <td>...</td>\n",
              "      <td>...</td>\n",
              "    </tr>\n",
              "    <tr>\n",
              "      <th>860</th>\n",
              "      <td>861</td>\n",
              "      <td>1.0</td>\n",
              "      <td>1.0</td>\n",
              "    </tr>\n",
              "    <tr>\n",
              "      <th>861</th>\n",
              "      <td>862</td>\n",
              "      <td>0.0</td>\n",
              "      <td>0.0</td>\n",
              "    </tr>\n",
              "    <tr>\n",
              "      <th>862</th>\n",
              "      <td>863</td>\n",
              "      <td>0.0</td>\n",
              "      <td>0.0</td>\n",
              "    </tr>\n",
              "    <tr>\n",
              "      <th>863</th>\n",
              "      <td>864</td>\n",
              "      <td>1.0</td>\n",
              "      <td>1.0</td>\n",
              "    </tr>\n",
              "    <tr>\n",
              "      <th>864</th>\n",
              "      <td>865</td>\n",
              "      <td>0.0</td>\n",
              "      <td>0.0</td>\n",
              "    </tr>\n",
              "  </tbody>\n",
              "</table>\n",
              "<p>865 rows × 3 columns</p>\n",
              "</div>"
            ],
            "text/plain": [
              "     Instance  Actual Class  Predicted Class\n",
              "0           1           0.0              0.0\n",
              "1           2           0.0              0.0\n",
              "2           3           0.0              0.0\n",
              "3           4           2.0              1.0\n",
              "4           5           3.0              2.0\n",
              "..        ...           ...              ...\n",
              "860       861           1.0              1.0\n",
              "861       862           0.0              0.0\n",
              "862       863           0.0              0.0\n",
              "863       864           1.0              1.0\n",
              "864       865           0.0              0.0\n",
              "\n",
              "[865 rows x 3 columns]"
            ]
          },
          "metadata": {
            "tags": []
          },
          "execution_count": 56
        }
      ]
    },
    {
      "cell_type": "code",
      "metadata": {
        "id": "vfoHa8UTwlLT"
      },
      "source": [
        "data = df_matrix"
      ],
      "execution_count": 57,
      "outputs": []
    },
    {
      "cell_type": "code",
      "metadata": {
        "colab": {
          "base_uri": "https://localhost:8080/"
        },
        "id": "sPvjbvQuwlLT",
        "outputId": "1320b985-7c74-49a5-df0f-b77004479cf9"
      },
      "source": [
        "sorted_input = pd.DataFrame(columns=['Number of Mails Sent', 'Number of Mails Responded'])\n",
        "\n",
        "for i in range(len(data)):\n",
        "    sum = data.loc[i, \"Actual Class\"]\n",
        "    for j in range(0, i):\n",
        "        sum += data.loc[j, \"Actual Class\"]\n",
        "    sorted_input = sorted_input.append({'Number of Mails Sent': i + 1, 'Number of Mails Responded': sum}, ignore_index=True)\n",
        "\n",
        "print(sorted_input)"
      ],
      "execution_count": 58,
      "outputs": [
        {
          "output_type": "stream",
          "text": [
            "     Number of Mails Sent  Number of Mails Responded\n",
            "0                     1.0                        0.0\n",
            "1                     2.0                        0.0\n",
            "2                     3.0                        0.0\n",
            "3                     4.0                        2.0\n",
            "4                     5.0                        5.0\n",
            "..                    ...                        ...\n",
            "860                 861.0                     1021.0\n",
            "861                 862.0                     1021.0\n",
            "862                 863.0                     1021.0\n",
            "863                 864.0                     1022.0\n",
            "864                 865.0                     1022.0\n",
            "\n",
            "[865 rows x 2 columns]\n"
          ],
          "name": "stdout"
        }
      ]
    },
    {
      "cell_type": "code",
      "metadata": {
        "colab": {
          "base_uri": "https://localhost:8080/"
        },
        "id": "1N6IWD2ewlLT",
        "outputId": "bc5b6b46-e7ef-4e30-8f1a-3b1615682ff3"
      },
      "source": [
        "shuffled_data = data.iloc[np.random.permutation(data.index)].reset_index(drop=True)\n",
        "\n",
        "rand_input = pd.DataFrame(columns=['Number of Mails Sent', 'Number of Mails Responded'])\n",
        "\n",
        "for i in range(len(shuffled_data)):\n",
        "    sum = shuffled_data.loc[i, \"Actual Class\"]\n",
        "    for j in range(0, i):\n",
        "        sum += shuffled_data.loc[j, \"Actual Class\"]\n",
        "    rand_input = rand_input.append({'Number of Mails Sent': i + 1, 'Number of Mails Responded': sum}, ignore_index=True)\n",
        "\n",
        "print(rand_input)"
      ],
      "execution_count": 59,
      "outputs": [
        {
          "output_type": "stream",
          "text": [
            "     Number of Mails Sent  Number of Mails Responded\n",
            "0                     1.0                        2.0\n",
            "1                     2.0                        2.0\n",
            "2                     3.0                        3.0\n",
            "3                     4.0                       10.0\n",
            "4                     5.0                       10.0\n",
            "..                    ...                        ...\n",
            "860                 861.0                     1018.0\n",
            "861                 862.0                     1019.0\n",
            "862                 863.0                     1021.0\n",
            "863                 864.0                     1022.0\n",
            "864                 865.0                     1022.0\n",
            "\n",
            "[865 rows x 2 columns]\n"
          ],
          "name": "stdout"
        }
      ]
    },
    {
      "cell_type": "code",
      "metadata": {
        "colab": {
          "base_uri": "https://localhost:8080/",
          "height": 295
        },
        "id": "RaATVNpAwlLT",
        "outputId": "23d5e0c4-ad99-45a8-ba78-f093f35ffb84"
      },
      "source": [
        "import matplotlib.pyplot as plt\n",
        "\n",
        "fig = plt.figure()\n",
        "plt.plot(sorted_input['Number of Mails Sent'], sorted_input['Number of Mails Responded'], label=\"sorted\")\n",
        "plt.plot(rand_input['Number of Mails Sent'], rand_input['Number of Mails Responded'], label=\"rand\")\n",
        "plt.title(\"Lift Chart\")\n",
        "plt.xlabel('Number of Mails Sent')\n",
        "plt.ylabel('Number of Mails Responded')\n",
        "plt.legend()\n",
        "plt.show()"
      ],
      "execution_count": 60,
      "outputs": [
        {
          "output_type": "display_data",
          "data": {
            "image/png": "[encoded data removed]",
            "text/plain": [
              "<Figure size 432x288 with 1 Axes>"
            ]
          },
          "metadata": {
            "tags": [],
            "needs_background": "light"
          }
        }
      ]
    },
    {
      "cell_type": "code",
      "metadata": {
        "colab": {
          "base_uri": "https://localhost:8080/"
        },
        "id": "z2KdSuxqwlLU",
        "outputId": "5d128eea-1b54-49b6-c7e7-90fb10bb4a44"
      },
      "source": [
        "\n",
        "cost = 4\n",
        "benefit = 15\n",
        "cost_benefit_of_mails = pd.DataFrame(columns=['Number of Mails Sent', 'Benefit'])\n",
        "\n",
        "for i in range(len(data)):\n",
        "    net_benefit = (15 * sorted_input.loc[i, \"Number of Mails Responded\"]) - (4 * sorted_input.loc[i, \"Number of Mails Sent\"])\n",
        "    cost_benefit_of_mails = cost_benefit_of_mails.append({'Number of Mails Sent': i + 1, 'Benefit': net_benefit}, ignore_index=True)\n",
        "\n",
        "print(cost_benefit_of_mails)"
      ],
      "execution_count": 61,
      "outputs": [
        {
          "output_type": "stream",
          "text": [
            "     Number of Mails Sent  Benefit\n",
            "0                     1.0     -4.0\n",
            "1                     2.0     -8.0\n",
            "2                     3.0    -12.0\n",
            "3                     4.0     14.0\n",
            "4                     5.0     55.0\n",
            "..                    ...      ...\n",
            "860                 861.0  11871.0\n",
            "861                 862.0  11867.0\n",
            "862                 863.0  11863.0\n",
            "863                 864.0  11874.0\n",
            "864                 865.0  11870.0\n",
            "\n",
            "[865 rows x 2 columns]\n"
          ],
          "name": "stdout"
        }
      ]
    },
    {
      "cell_type": "code",
      "metadata": {
        "colab": {
          "base_uri": "https://localhost:8080/",
          "height": 295
        },
        "id": "R-ofCw9owlLU",
        "outputId": "ecb84a60-d98f-482c-80f3-c0f3f887a7bb"
      },
      "source": [
        "import matplotlib.pyplot as plt\n",
        "\n",
        "fig = plt.figure()\n",
        "plt.plot(cost_benefit_of_mails['Number of Mails Sent'], cost_benefit_of_mails['Benefit'])\n",
        "plt.title(\"Cost and Benefit Chart with Sorted Data\")\n",
        "plt.xlabel('Number of Mails Sent')\n",
        "plt.ylabel('Net Benefit')\n",
        "plt.show()"
      ],
      "execution_count": 62,
      "outputs": [
        {
          "output_type": "display_data",
          "data": {
            "image/png": "[encoded data removed]",
            "text/plain": [
              "<Figure size 432x288 with 1 Axes>"
            ]
          },
          "metadata": {
            "tags": [],
            "needs_background": "light"
          }
        }
      ]
    },
    {
      "cell_type": "code",
      "metadata": {
        "colab": {
          "base_uri": "https://localhost:8080/"
        },
        "id": "bwOfc0r_wlLU",
        "outputId": "f8b779e2-7b05-472f-f0c6-361a8864339c"
      },
      "source": [
        "\n",
        "maxes = cost_benefit_of_mails.max()\n",
        "print(\"Maximum Benefit: \", maxes[1])\n",
        "\n",
        "index = cost_benefit_of_mails.index[cost_benefit_of_mails['Benefit'] == maxes[1]].tolist()\n",
        "print(\"Number of mails sent corresponding to maximum benefit: \", index[0] + 1)"
      ],
      "execution_count": 63,
      "outputs": [
        {
          "output_type": "stream",
          "text": [
            "Maximum Benefit:  11884.0\n",
            "Number of mails sent corresponding to maximum benefit:  854\n"
          ],
          "name": "stdout"
        }
      ]
    },
    {
      "cell_type": "code",
      "metadata": {
        "colab": {
          "base_uri": "https://localhost:8080/"
        },
        "id": "t5CdMoSowlLU",
        "outputId": "3d7bc64f-ab4a-426e-89a8-281394b81512"
      },
      "source": [
        "cost = 4\n",
        "benefit = 15\n",
        "cost_benefit_of_mails = pd.DataFrame(columns=['Number of Mails Sent', 'Benefit'])\n",
        "\n",
        "for i in range(len(data)):\n",
        "    net_benefit = (15 * rand_input.loc[i, \"Number of Mails Responded\"]) - (4 * rand_input.loc[i, \"Number of Mails Sent\"])\n",
        "    cost_benefit_of_mails = cost_benefit_of_mails.append({'Number of Mails Sent': i + 1, 'Benefit': net_benefit}, ignore_index=True)\n",
        "\n",
        "print(cost_benefit_of_mails)\n"
      ],
      "execution_count": 64,
      "outputs": [
        {
          "output_type": "stream",
          "text": [
            "     Number of Mails Sent  Benefit\n",
            "0                     1.0     26.0\n",
            "1                     2.0     22.0\n",
            "2                     3.0     33.0\n",
            "3                     4.0    134.0\n",
            "4                     5.0    130.0\n",
            "..                    ...      ...\n",
            "860                 861.0  11826.0\n",
            "861                 862.0  11837.0\n",
            "862                 863.0  11863.0\n",
            "863                 864.0  11874.0\n",
            "864                 865.0  11870.0\n",
            "\n",
            "[865 rows x 2 columns]\n"
          ],
          "name": "stdout"
        }
      ]
    },
    {
      "cell_type": "code",
      "metadata": {
        "colab": {
          "base_uri": "https://localhost:8080/",
          "height": 295
        },
        "id": "3DCLYPa2wlLU",
        "outputId": "0e022c45-dee8-4476-ef00-eae3e712f3fc"
      },
      "source": [
        "import matplotlib.pyplot as plt\n",
        "\n",
        "fig = plt.figure()\n",
        "plt.plot(cost_benefit_of_mails['Number of Mails Sent'], cost_benefit_of_mails['Benefit'])\n",
        "plt.title(\"Cost and Benefit Chart with Unsorted Data\")\n",
        "plt.xlabel('Number of Mails Sent')\n",
        "plt.ylabel('Net Benefit')\n",
        "plt.show()"
      ],
      "execution_count": 65,
      "outputs": [
        {
          "output_type": "display_data",
          "data": {
            "image/png": "[encoded data removed]",
            "text/plain": [
              "<Figure size 432x288 with 1 Axes>"
            ]
          },
          "metadata": {
            "tags": [],
            "needs_background": "light"
          }
        }
      ]
    },
    {
      "cell_type": "markdown",
      "metadata": {
        "id": "9DDVkJoPwlLU"
      },
      "source": [
        "# CONCLUSION "
      ]
    },
    {
      "cell_type": "code",
      "metadata": {
        "colab": {
          "base_uri": "https://localhost:8080/"
        },
        "id": "TTGp8vicwlLV",
        "outputId": "cea994ed-fefe-4d7e-d603-9baf6f12876d"
      },
      "source": [
        "maxes = cost_benefit_of_mails.max()\n",
        "print(\"Maximum Benefit: \", maxes[1])\n",
        "\n",
        "index = cost_benefit_of_mails.index[cost_benefit_of_mails['Benefit'] == maxes[1]].tolist()\n",
        "print(\"Number of mails sent corresponding to maximum benefit: \", index[0] + 1)"
      ],
      "execution_count": 66,
      "outputs": [
        {
          "output_type": "stream",
          "text": [
            "Maximum Benefit:  11874.0\n",
            "Number of mails sent corresponding to maximum benefit:  864\n"
          ],
          "name": "stdout"
        }
      ]
    },
    {
      "cell_type": "code",
      "metadata": {
        "id": "apN-S4SGwlLV"
      },
      "source": [
        ""
      ],
      "execution_count": 66,
      "outputs": []
    }
  ]
}